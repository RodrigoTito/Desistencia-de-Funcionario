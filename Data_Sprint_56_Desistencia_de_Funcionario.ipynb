{
  "nbformat": 4,
  "nbformat_minor": 0,
  "metadata": {
    "colab": {
      "name": "Data Sprint 56 - Desistencia de Funcionario.ipynb",
      "provenance": [],
      "collapsed_sections": [
        "i9Uv63Ta_XwV",
        "jBCvxaEO_gDK",
        "pJbIaUs3CGrx",
        "TreYElDK-O9u",
        "rKA4Atfq8Q6w",
        "jSty63h2K7w2"
      ],
      "authorship_tag": "ABX9TyPWlq7VoLJBA2K6qccivmV0",
      "include_colab_link": true
    },
    "kernelspec": {
      "name": "python3",
      "display_name": "Python 3"
    },
    "language_info": {
      "name": "python"
    }
  },
  "cells": [
    {
      "cell_type": "markdown",
      "metadata": {
        "id": "view-in-github",
        "colab_type": "text"
      },
      "source": [
        "<a href=\"https://colab.research.google.com/github/RodrigoTito/Desistencia-de-Funcionario/blob/main/Data_Sprint_56_Desistencia_de_Funcionario.ipynb\" target=\"_parent\"><img src=\"https://colab.research.google.com/assets/colab-badge.svg\" alt=\"Open In Colab\"/></a>"
      ]
    },
    {
      "cell_type": "markdown",
      "metadata": {
        "id": "i9Uv63Ta_XwV"
      },
      "source": [
        "# Projeto de machine learning"
      ]
    },
    {
      "cell_type": "markdown",
      "metadata": {
        "id": "sH105V1tu0Re"
      },
      "source": [
        "### Desafio proposto\n",
        "\n",
        "O desgaste de funcionários é um desafio global para empresas de todos os tamanhos. Isso leva à interrupção operacional das organizações, acrescenta custos adicionais e a lista continua até que eles contratem o substituto certo e os treinem adequadamente. As empresas têm grande interesse em compreender as causas do desgaste de pessoal e em minimizá-lo.\n",
        "\n",
        "Agora, a tarefa e  construir um modelo que preveja o desgaste de funcionários.\n",
        "\n",
        "Para tanto, usaremos um conjunto de dados  disponível na comunidade [DPhi](https://dphi.tech/challenges/data-sprint-56-employee-attrition/177/overview/about).\n",
        "\n",
        "Este conjunto de dados apresenta uma pesquisa com funcionários da IBM, indicando se há desgaste de funcionários ou não. O conjunto de dados contém aproximadamente ~ 1200 entradas. \n",
        "\n",
        "\n",
        "### Descrição de dados\n",
        "\n",
        "Column name   | Descrição \n",
        "--------- | ------------\n",
        "Id |  uma identificação anônima fornecida a um funcionário\n",
        "Age | Idade de um funcionário\n",
        "Attrition |  O funcionário saiu da empresa, 0-Não, 1-Sim\n",
        "BusinessTravel |  Frequência de navegação de um funcionário\n",
        "Department | Departamento de Trabalho\n",
        "DistanceFromHome | Distância do escritório de casa\n",
        "EducationField | Área da Educação\n",
        "EmployeeNumber |  Número de funcionários na divisão de um determinado funcionário\n",
        "EnvironmentSatisfaction | Satisfação com o ambiente de trabalho\n",
        "Gender | Sexo do empregado\n",
        "MartialStatus | Status marcial de um funcionário\n",
        "MonthlyIncome | Renda mensal do empregado em dólares americanos\n",
        "NumCompaniesWorked | Número de empresas nas quais o funcionário trabalhou antes de ingressar nesta empresa\n",
        "OverTime | A pessoa trabalha horas extras\n",
        "PercentSalaryHike | Aumento médio do salário anual em porcentagens\n",
        "StockOptionLevel | Ações da empresa dadas a um funcionário\n",
        "TotalWorkingYears | Experiência de trabalho total de um funcionário\n",
        "TrainingTimesLastYear | Número de treinamentos pelos quais um funcionário passou no ano passado\n",
        "YearsAtCompany | Número de anos trabalhados nesta empresa\n",
        "YearsInCurrentRole | Número de anos na função atual\n",
        "YearsSinceLastPromotion | Número de anos desde a última promoção\n",
        "YearsWithCurrManager | Número de anos com o atual gerente\n",
        "**Education** | **Educação** \n",
        "1 'Below College' | 1 'Abaixo da faculdade'\n",
        "2 'College' | 2 'faculdade'\n",
        "3 'Bachelor' | 3 'Bacharel'\n",
        "4 'Master' | 4 'Mestre'\n",
        "5 'Doctor' | 5 'Doutor' \n",
        "**EnvironmentSatisfaction**|  **Satisfação com o Meio Ambiente**\n",
        "1 'Low' | 1 'baixo'\n",
        "2 'Medium' | 2 'Médio'\n",
        "3 'High'| 3 'alto'\n",
        "4 'Very High' | 4 'Muito alto'\n",
        "**JobInvolvement**|**Envolvimento no Trabalho**\n",
        "1 'Low' | 1 'baixo'\n",
        "2 'Medium' | 2 'Médio'\n",
        "3 'High' | 3 'alto'\n",
        "4 'Very High'  | 4 'Muito alto'\n",
        "**JobSatisfaction**| **Satisfação no Trabalho**\n",
        "1 'Low' | 1 'baixo'\n",
        "2 'Medium' | 2 'Médio'\n",
        "3 'High' | 3 'alto'\n",
        "4 'Very High'  | 4 'Muito alto'\n",
        "**PerformanceRating** | **Avaliação de Desempenho**\n",
        "1 'Low' | 1 'baixo'\n",
        "2 'Good' | 'Bom'\n",
        "3 'Excellent' | 'Excelente'\n",
        "4 'Outstanding' | 'Excepcional'\n",
        "**Behaviour** | **Comportamento**\n",
        "1 'Good' | 'Bom'\n",
        "2 'Bad'  | 'Mau'\n",
        "3 'Not Rated' | 'Não avaliado'\n",
        "**CommunicationSkill** | **Habilidade em comunicação**\n",
        "1 'Bad' | 'Mau' \n",
        "2 'Average' | 'Média'\n",
        "3 'Good' | 'Bom'\n",
        "4 'Better' | 'Melhor'\n",
        "5 'Best'| 'Super'\n",
        "**StockOptionLevel** | **Nível de opção de ações**\n",
        "0 'No stocks' | 'Sem ações'\n",
        "1 'Less Stocks' | 'Menos ações'\n",
        "2 'Moderate Stocks' | 'Ações moderadas'\n",
        "3 'A lot of Stocks' |  'Muitas ações'\n"
      ]
    },
    {
      "cell_type": "markdown",
      "metadata": {
        "id": "OSw_D2ZZs2fN"
      },
      "source": [
        "### Resumo do projeto\n",
        "\n",
        "* Bibliotecas necessárias\n",
        "* Carregar dados \n",
        "* EDA - Análise Exploratória de Dados\n",
        "* Pré-processamento e modelagem dos dados \n",
        "* Previsão da variável destino usando regressão logística \n",
        "* Métrica de avaliação com base no problema \n",
        "* Previsão e apresentação"
      ]
    },
    {
      "cell_type": "markdown",
      "metadata": {
        "id": "jBCvxaEO_gDK"
      },
      "source": [
        "### Bibliotecas"
      ]
    },
    {
      "cell_type": "code",
      "metadata": {
        "id": "9GifveMp_boy"
      },
      "source": [
        "import os\n",
        "import numpy as np\n",
        "import pandas as pd\n",
        "import matplotlib.pyplot as plt\n",
        "import seaborn as sns"
      ],
      "execution_count": 1,
      "outputs": []
    },
    {
      "cell_type": "markdown",
      "metadata": {
        "id": "g35jinGGBy7K"
      },
      "source": [
        "* Carregar Dados"
      ]
    },
    {
      "cell_type": "code",
      "metadata": {
        "colab": {
          "base_uri": "https://localhost:8080/"
        },
        "id": "jrNtMDPnB2VY",
        "outputId": "2c4e8fca-4398-4433-a503-49f89f1a1298"
      },
      "source": [
        "print(sorted(os.listdir(\"/content\")))"
      ],
      "execution_count": 2,
      "outputs": [
        {
          "output_type": "stream",
          "name": "stdout",
          "text": [
            "['.config', 'sample_data', 'testing_data.csv', 'training_data.csv']\n"
          ]
        }
      ]
    },
    {
      "cell_type": "code",
      "metadata": {
        "id": "jlN6tfSBCATi"
      },
      "source": [
        "train = pd.read_csv(sorted(os.listdir(\"../content\"))[-1], sep = ';')\n",
        "test = pd.read_csv(sorted(os.listdir(\"../content\"))[-2])"
      ],
      "execution_count": 162,
      "outputs": []
    },
    {
      "cell_type": "markdown",
      "metadata": {
        "id": "pJbIaUs3CGrx"
      },
      "source": [
        "### EDA - Análise Exploratória de Dados"
      ]
    },
    {
      "cell_type": "markdown",
      "metadata": {
        "id": "KOCoIe7DsWOS"
      },
      "source": [
        "* Os tamanhos dos datasets"
      ]
    },
    {
      "cell_type": "code",
      "metadata": {
        "colab": {
          "base_uri": "https://localhost:8080/"
        },
        "id": "Gya8zHy3CI-Y",
        "outputId": "8c5600b7-5115-46b2-e37a-b06084fc7b00"
      },
      "source": [
        "[x.shape for x in [test, train]]"
      ],
      "execution_count": 33,
      "outputs": [
        {
          "output_type": "execute_result",
          "data": {
            "text/plain": [
              "[(294, 34), (1176, 35)]"
            ]
          },
          "metadata": {},
          "execution_count": 33
        }
      ]
    },
    {
      "cell_type": "markdown",
      "metadata": {
        "id": "Y1D9uIk9sgvi"
      },
      "source": [
        "* Variáveis do dataset train"
      ]
    },
    {
      "cell_type": "code",
      "metadata": {
        "colab": {
          "base_uri": "https://localhost:8080/",
          "height": 101
        },
        "id": "kJnJCgdusk_D",
        "outputId": "7eea61e1-85d6-4e8f-ba20-100a637bb8cd"
      },
      "source": [
        "pd.DataFrame({'Cols_Train':train.columns}).transpose()"
      ],
      "execution_count": 37,
      "outputs": [
        {
          "output_type": "execute_result",
          "data": {
            "text/html": [
              "<div>\n",
              "<style scoped>\n",
              "    .dataframe tbody tr th:only-of-type {\n",
              "        vertical-align: middle;\n",
              "    }\n",
              "\n",
              "    .dataframe tbody tr th {\n",
              "        vertical-align: top;\n",
              "    }\n",
              "\n",
              "    .dataframe thead th {\n",
              "        text-align: right;\n",
              "    }\n",
              "</style>\n",
              "<table border=\"1\" class=\"dataframe\">\n",
              "  <thead>\n",
              "    <tr style=\"text-align: right;\">\n",
              "      <th></th>\n",
              "      <th>0</th>\n",
              "      <th>1</th>\n",
              "      <th>2</th>\n",
              "      <th>3</th>\n",
              "      <th>4</th>\n",
              "      <th>5</th>\n",
              "      <th>6</th>\n",
              "      <th>7</th>\n",
              "      <th>8</th>\n",
              "      <th>9</th>\n",
              "      <th>10</th>\n",
              "      <th>11</th>\n",
              "      <th>12</th>\n",
              "      <th>13</th>\n",
              "      <th>14</th>\n",
              "      <th>15</th>\n",
              "      <th>16</th>\n",
              "      <th>17</th>\n",
              "      <th>18</th>\n",
              "      <th>19</th>\n",
              "      <th>20</th>\n",
              "      <th>21</th>\n",
              "      <th>22</th>\n",
              "      <th>23</th>\n",
              "      <th>24</th>\n",
              "      <th>25</th>\n",
              "      <th>26</th>\n",
              "      <th>27</th>\n",
              "      <th>28</th>\n",
              "      <th>29</th>\n",
              "      <th>30</th>\n",
              "      <th>31</th>\n",
              "      <th>32</th>\n",
              "      <th>33</th>\n",
              "      <th>34</th>\n",
              "    </tr>\n",
              "  </thead>\n",
              "  <tbody>\n",
              "    <tr>\n",
              "      <th>Cols_Train</th>\n",
              "      <td>Age</td>\n",
              "      <td>BusinessTravel</td>\n",
              "      <td>DailyRate</td>\n",
              "      <td>Department</td>\n",
              "      <td>DistanceFromHome</td>\n",
              "      <td>Education</td>\n",
              "      <td>EducationField</td>\n",
              "      <td>EmployeeCount</td>\n",
              "      <td>EmployeeNumber</td>\n",
              "      <td>EnvironmentSatisfaction</td>\n",
              "      <td>Gender</td>\n",
              "      <td>HourlyRate</td>\n",
              "      <td>JobInvolvement</td>\n",
              "      <td>JobLevel</td>\n",
              "      <td>JobRole</td>\n",
              "      <td>JobSatisfaction</td>\n",
              "      <td>MaritalStatus</td>\n",
              "      <td>MonthlyIncome</td>\n",
              "      <td>MonthlyRate</td>\n",
              "      <td>NumCompaniesWorked</td>\n",
              "      <td>Over18</td>\n",
              "      <td>OverTime</td>\n",
              "      <td>PercentSalaryHike</td>\n",
              "      <td>PerformanceRating</td>\n",
              "      <td>RelationshipSatisfaction</td>\n",
              "      <td>StandardHours</td>\n",
              "      <td>StockOptionLevel</td>\n",
              "      <td>TotalWorkingYears</td>\n",
              "      <td>TrainingTimesLastYear</td>\n",
              "      <td>WorkLifeBalance</td>\n",
              "      <td>YearsAtCompany</td>\n",
              "      <td>YearsInCurrentRole</td>\n",
              "      <td>YearsSinceLastPromotion</td>\n",
              "      <td>YearsWithCurrManager</td>\n",
              "      <td>Attrition</td>\n",
              "    </tr>\n",
              "  </tbody>\n",
              "</table>\n",
              "</div>"
            ],
            "text/plain": [
              "             0               1   ...                    33         34\n",
              "Cols_Train  Age  BusinessTravel  ...  YearsWithCurrManager  Attrition\n",
              "\n",
              "[1 rows x 35 columns]"
            ]
          },
          "metadata": {},
          "execution_count": 37
        }
      ]
    },
    {
      "cell_type": "markdown",
      "metadata": {
        "id": "pQHhKCu0tAoQ"
      },
      "source": [
        "* Colunas diferentes dos datasets train e test"
      ]
    },
    {
      "cell_type": "code",
      "metadata": {
        "colab": {
          "base_uri": "https://localhost:8080/"
        },
        "id": "xTCf4rYntBAC",
        "outputId": "495fab0d-e030-4438-eda9-2bbf376411c6"
      },
      "source": [
        "train.columns.difference(test.columns)"
      ],
      "execution_count": 34,
      "outputs": [
        {
          "output_type": "execute_result",
          "data": {
            "text/plain": [
              "Index(['Attrition'], dtype='object')"
            ]
          },
          "metadata": {},
          "execution_count": 34
        }
      ]
    },
    {
      "cell_type": "markdown",
      "metadata": {
        "id": "itkQ26B9txpH"
      },
      "source": [
        "* Tipo das variáveis"
      ]
    },
    {
      "cell_type": "code",
      "metadata": {
        "colab": {
          "base_uri": "https://localhost:8080/"
        },
        "id": "rUdHVPbUtzks",
        "outputId": "7b3f2b0e-bad9-4935-af27-6722c2168835"
      },
      "source": [
        "train.dtypes.value_counts()  "
      ],
      "execution_count": 15,
      "outputs": [
        {
          "output_type": "execute_result",
          "data": {
            "text/plain": [
              "int64     27\n",
              "object     8\n",
              "dtype: int64"
            ]
          },
          "metadata": {},
          "execution_count": 15
        }
      ]
    },
    {
      "cell_type": "markdown",
      "metadata": {
        "id": "Ml2G3XFyuXq-"
      },
      "source": [
        "* Visualizando o dataset train"
      ]
    },
    {
      "cell_type": "code",
      "metadata": {
        "colab": {
          "base_uri": "https://localhost:8080/",
          "height": 313
        },
        "id": "fiDclNg7CX3C",
        "outputId": "278d93fd-6c25-4c49-e196-162b8486bcb1"
      },
      "source": [
        "train.head()"
      ],
      "execution_count": 36,
      "outputs": [
        {
          "output_type": "execute_result",
          "data": {
            "text/html": [
              "<div>\n",
              "<style scoped>\n",
              "    .dataframe tbody tr th:only-of-type {\n",
              "        vertical-align: middle;\n",
              "    }\n",
              "\n",
              "    .dataframe tbody tr th {\n",
              "        vertical-align: top;\n",
              "    }\n",
              "\n",
              "    .dataframe thead th {\n",
              "        text-align: right;\n",
              "    }\n",
              "</style>\n",
              "<table border=\"1\" class=\"dataframe\">\n",
              "  <thead>\n",
              "    <tr style=\"text-align: right;\">\n",
              "      <th></th>\n",
              "      <th>Age</th>\n",
              "      <th>BusinessTravel</th>\n",
              "      <th>DailyRate</th>\n",
              "      <th>Department</th>\n",
              "      <th>DistanceFromHome</th>\n",
              "      <th>Education</th>\n",
              "      <th>EducationField</th>\n",
              "      <th>EmployeeCount</th>\n",
              "      <th>EmployeeNumber</th>\n",
              "      <th>EnvironmentSatisfaction</th>\n",
              "      <th>Gender</th>\n",
              "      <th>HourlyRate</th>\n",
              "      <th>JobInvolvement</th>\n",
              "      <th>JobLevel</th>\n",
              "      <th>JobRole</th>\n",
              "      <th>JobSatisfaction</th>\n",
              "      <th>MaritalStatus</th>\n",
              "      <th>MonthlyIncome</th>\n",
              "      <th>MonthlyRate</th>\n",
              "      <th>NumCompaniesWorked</th>\n",
              "      <th>Over18</th>\n",
              "      <th>OverTime</th>\n",
              "      <th>PercentSalaryHike</th>\n",
              "      <th>PerformanceRating</th>\n",
              "      <th>RelationshipSatisfaction</th>\n",
              "      <th>StandardHours</th>\n",
              "      <th>StockOptionLevel</th>\n",
              "      <th>TotalWorkingYears</th>\n",
              "      <th>TrainingTimesLastYear</th>\n",
              "      <th>WorkLifeBalance</th>\n",
              "      <th>YearsAtCompany</th>\n",
              "      <th>YearsInCurrentRole</th>\n",
              "      <th>YearsSinceLastPromotion</th>\n",
              "      <th>YearsWithCurrManager</th>\n",
              "      <th>Attrition</th>\n",
              "    </tr>\n",
              "  </thead>\n",
              "  <tbody>\n",
              "    <tr>\n",
              "      <th>0</th>\n",
              "      <td>25</td>\n",
              "      <td>Travel_Rarely</td>\n",
              "      <td>685</td>\n",
              "      <td>Research &amp; Development</td>\n",
              "      <td>1</td>\n",
              "      <td>3</td>\n",
              "      <td>Life Sciences</td>\n",
              "      <td>1</td>\n",
              "      <td>350</td>\n",
              "      <td>1</td>\n",
              "      <td>Female</td>\n",
              "      <td>62</td>\n",
              "      <td>3</td>\n",
              "      <td>2</td>\n",
              "      <td>Manufacturing Director</td>\n",
              "      <td>3</td>\n",
              "      <td>Married</td>\n",
              "      <td>4898</td>\n",
              "      <td>7505</td>\n",
              "      <td>0</td>\n",
              "      <td>Y</td>\n",
              "      <td>No</td>\n",
              "      <td>12</td>\n",
              "      <td>3</td>\n",
              "      <td>4</td>\n",
              "      <td>80</td>\n",
              "      <td>2</td>\n",
              "      <td>5</td>\n",
              "      <td>3</td>\n",
              "      <td>3</td>\n",
              "      <td>4</td>\n",
              "      <td>2</td>\n",
              "      <td>1</td>\n",
              "      <td>2</td>\n",
              "      <td>0</td>\n",
              "    </tr>\n",
              "    <tr>\n",
              "      <th>1</th>\n",
              "      <td>44</td>\n",
              "      <td>Travel_Rarely</td>\n",
              "      <td>1376</td>\n",
              "      <td>Human Resources</td>\n",
              "      <td>1</td>\n",
              "      <td>2</td>\n",
              "      <td>Medical</td>\n",
              "      <td>1</td>\n",
              "      <td>1098</td>\n",
              "      <td>2</td>\n",
              "      <td>Male</td>\n",
              "      <td>91</td>\n",
              "      <td>2</td>\n",
              "      <td>3</td>\n",
              "      <td>Human Resources</td>\n",
              "      <td>1</td>\n",
              "      <td>Married</td>\n",
              "      <td>10482</td>\n",
              "      <td>2326</td>\n",
              "      <td>9</td>\n",
              "      <td>Y</td>\n",
              "      <td>No</td>\n",
              "      <td>14</td>\n",
              "      <td>3</td>\n",
              "      <td>4</td>\n",
              "      <td>80</td>\n",
              "      <td>1</td>\n",
              "      <td>24</td>\n",
              "      <td>1</td>\n",
              "      <td>3</td>\n",
              "      <td>20</td>\n",
              "      <td>6</td>\n",
              "      <td>3</td>\n",
              "      <td>6</td>\n",
              "      <td>1</td>\n",
              "    </tr>\n",
              "    <tr>\n",
              "      <th>2</th>\n",
              "      <td>27</td>\n",
              "      <td>Travel_Rarely</td>\n",
              "      <td>135</td>\n",
              "      <td>Research &amp; Development</td>\n",
              "      <td>17</td>\n",
              "      <td>4</td>\n",
              "      <td>Life Sciences</td>\n",
              "      <td>1</td>\n",
              "      <td>1405</td>\n",
              "      <td>4</td>\n",
              "      <td>Female</td>\n",
              "      <td>51</td>\n",
              "      <td>3</td>\n",
              "      <td>1</td>\n",
              "      <td>Research Scientist</td>\n",
              "      <td>3</td>\n",
              "      <td>Single</td>\n",
              "      <td>2394</td>\n",
              "      <td>25681</td>\n",
              "      <td>1</td>\n",
              "      <td>Y</td>\n",
              "      <td>Yes</td>\n",
              "      <td>13</td>\n",
              "      <td>3</td>\n",
              "      <td>4</td>\n",
              "      <td>80</td>\n",
              "      <td>0</td>\n",
              "      <td>8</td>\n",
              "      <td>2</td>\n",
              "      <td>3</td>\n",
              "      <td>8</td>\n",
              "      <td>2</td>\n",
              "      <td>7</td>\n",
              "      <td>7</td>\n",
              "      <td>1</td>\n",
              "    </tr>\n",
              "    <tr>\n",
              "      <th>3</th>\n",
              "      <td>40</td>\n",
              "      <td>Travel_Frequently</td>\n",
              "      <td>580</td>\n",
              "      <td>Sales</td>\n",
              "      <td>5</td>\n",
              "      <td>4</td>\n",
              "      <td>Life Sciences</td>\n",
              "      <td>1</td>\n",
              "      <td>729</td>\n",
              "      <td>4</td>\n",
              "      <td>Male</td>\n",
              "      <td>48</td>\n",
              "      <td>2</td>\n",
              "      <td>3</td>\n",
              "      <td>Sales Executive</td>\n",
              "      <td>1</td>\n",
              "      <td>Married</td>\n",
              "      <td>10475</td>\n",
              "      <td>23772</td>\n",
              "      <td>5</td>\n",
              "      <td>Y</td>\n",
              "      <td>Yes</td>\n",
              "      <td>21</td>\n",
              "      <td>4</td>\n",
              "      <td>3</td>\n",
              "      <td>80</td>\n",
              "      <td>1</td>\n",
              "      <td>20</td>\n",
              "      <td>2</td>\n",
              "      <td>3</td>\n",
              "      <td>18</td>\n",
              "      <td>13</td>\n",
              "      <td>1</td>\n",
              "      <td>12</td>\n",
              "      <td>0</td>\n",
              "    </tr>\n",
              "    <tr>\n",
              "      <th>4</th>\n",
              "      <td>24</td>\n",
              "      <td>Travel_Rarely</td>\n",
              "      <td>477</td>\n",
              "      <td>Research &amp; Development</td>\n",
              "      <td>24</td>\n",
              "      <td>3</td>\n",
              "      <td>Medical</td>\n",
              "      <td>1</td>\n",
              "      <td>1173</td>\n",
              "      <td>4</td>\n",
              "      <td>Male</td>\n",
              "      <td>49</td>\n",
              "      <td>3</td>\n",
              "      <td>1</td>\n",
              "      <td>Laboratory Technician</td>\n",
              "      <td>2</td>\n",
              "      <td>Single</td>\n",
              "      <td>3597</td>\n",
              "      <td>6409</td>\n",
              "      <td>8</td>\n",
              "      <td>Y</td>\n",
              "      <td>No</td>\n",
              "      <td>22</td>\n",
              "      <td>4</td>\n",
              "      <td>4</td>\n",
              "      <td>80</td>\n",
              "      <td>0</td>\n",
              "      <td>6</td>\n",
              "      <td>2</td>\n",
              "      <td>3</td>\n",
              "      <td>4</td>\n",
              "      <td>3</td>\n",
              "      <td>1</td>\n",
              "      <td>2</td>\n",
              "      <td>0</td>\n",
              "    </tr>\n",
              "  </tbody>\n",
              "</table>\n",
              "</div>"
            ],
            "text/plain": [
              "   Age     BusinessTravel  ...  YearsWithCurrManager Attrition\n",
              "0   25      Travel_Rarely  ...                     2         0\n",
              "1   44      Travel_Rarely  ...                     6         1\n",
              "2   27      Travel_Rarely  ...                     7         1\n",
              "3   40  Travel_Frequently  ...                    12         0\n",
              "4   24      Travel_Rarely  ...                     2         0\n",
              "\n",
              "[5 rows x 35 columns]"
            ]
          },
          "metadata": {},
          "execution_count": 36
        }
      ]
    },
    {
      "cell_type": "markdown",
      "metadata": {
        "id": "aw0QstsC1YZi"
      },
      "source": [
        "* Resumo de cada variável do dataset train"
      ]
    },
    {
      "cell_type": "code",
      "metadata": {
        "colab": {
          "base_uri": "https://localhost:8080/",
          "height": 1000
        },
        "id": "6VamJNLs1asS",
        "outputId": "8a4739bc-7b86-4ea5-d11a-946ccb5aeb5d"
      },
      "source": [
        "df_aux = pd.DataFrame({'Type': train.dtypes,\n",
        "                      'Missing': train.isna().sum(),\n",
        "                      'Size': train.shape[0],\n",
        "                       'Unique': train.nunique()\n",
        "                     })\n",
        "df_aux['Missing_%']= df_aux.Missing/df_aux.Size * 100\n",
        "df_aux.sort_values(by='Missing_%', ascending=False)"
      ],
      "execution_count": 38,
      "outputs": [
        {
          "output_type": "execute_result",
          "data": {
            "text/html": [
              "<div>\n",
              "<style scoped>\n",
              "    .dataframe tbody tr th:only-of-type {\n",
              "        vertical-align: middle;\n",
              "    }\n",
              "\n",
              "    .dataframe tbody tr th {\n",
              "        vertical-align: top;\n",
              "    }\n",
              "\n",
              "    .dataframe thead th {\n",
              "        text-align: right;\n",
              "    }\n",
              "</style>\n",
              "<table border=\"1\" class=\"dataframe\">\n",
              "  <thead>\n",
              "    <tr style=\"text-align: right;\">\n",
              "      <th></th>\n",
              "      <th>Type</th>\n",
              "      <th>Missing</th>\n",
              "      <th>Size</th>\n",
              "      <th>Unique</th>\n",
              "      <th>Missing_%</th>\n",
              "    </tr>\n",
              "  </thead>\n",
              "  <tbody>\n",
              "    <tr>\n",
              "      <th>Age</th>\n",
              "      <td>int64</td>\n",
              "      <td>0</td>\n",
              "      <td>1176</td>\n",
              "      <td>43</td>\n",
              "      <td>0.0</td>\n",
              "    </tr>\n",
              "    <tr>\n",
              "      <th>StockOptionLevel</th>\n",
              "      <td>int64</td>\n",
              "      <td>0</td>\n",
              "      <td>1176</td>\n",
              "      <td>4</td>\n",
              "      <td>0.0</td>\n",
              "    </tr>\n",
              "    <tr>\n",
              "      <th>Over18</th>\n",
              "      <td>object</td>\n",
              "      <td>0</td>\n",
              "      <td>1176</td>\n",
              "      <td>1</td>\n",
              "      <td>0.0</td>\n",
              "    </tr>\n",
              "    <tr>\n",
              "      <th>OverTime</th>\n",
              "      <td>object</td>\n",
              "      <td>0</td>\n",
              "      <td>1176</td>\n",
              "      <td>2</td>\n",
              "      <td>0.0</td>\n",
              "    </tr>\n",
              "    <tr>\n",
              "      <th>PercentSalaryHike</th>\n",
              "      <td>int64</td>\n",
              "      <td>0</td>\n",
              "      <td>1176</td>\n",
              "      <td>15</td>\n",
              "      <td>0.0</td>\n",
              "    </tr>\n",
              "    <tr>\n",
              "      <th>PerformanceRating</th>\n",
              "      <td>int64</td>\n",
              "      <td>0</td>\n",
              "      <td>1176</td>\n",
              "      <td>2</td>\n",
              "      <td>0.0</td>\n",
              "    </tr>\n",
              "    <tr>\n",
              "      <th>RelationshipSatisfaction</th>\n",
              "      <td>int64</td>\n",
              "      <td>0</td>\n",
              "      <td>1176</td>\n",
              "      <td>4</td>\n",
              "      <td>0.0</td>\n",
              "    </tr>\n",
              "    <tr>\n",
              "      <th>StandardHours</th>\n",
              "      <td>int64</td>\n",
              "      <td>0</td>\n",
              "      <td>1176</td>\n",
              "      <td>1</td>\n",
              "      <td>0.0</td>\n",
              "    </tr>\n",
              "    <tr>\n",
              "      <th>TotalWorkingYears</th>\n",
              "      <td>int64</td>\n",
              "      <td>0</td>\n",
              "      <td>1176</td>\n",
              "      <td>39</td>\n",
              "      <td>0.0</td>\n",
              "    </tr>\n",
              "    <tr>\n",
              "      <th>MonthlyRate</th>\n",
              "      <td>int64</td>\n",
              "      <td>0</td>\n",
              "      <td>1176</td>\n",
              "      <td>1145</td>\n",
              "      <td>0.0</td>\n",
              "    </tr>\n",
              "    <tr>\n",
              "      <th>TrainingTimesLastYear</th>\n",
              "      <td>int64</td>\n",
              "      <td>0</td>\n",
              "      <td>1176</td>\n",
              "      <td>7</td>\n",
              "      <td>0.0</td>\n",
              "    </tr>\n",
              "    <tr>\n",
              "      <th>WorkLifeBalance</th>\n",
              "      <td>int64</td>\n",
              "      <td>0</td>\n",
              "      <td>1176</td>\n",
              "      <td>4</td>\n",
              "      <td>0.0</td>\n",
              "    </tr>\n",
              "    <tr>\n",
              "      <th>YearsAtCompany</th>\n",
              "      <td>int64</td>\n",
              "      <td>0</td>\n",
              "      <td>1176</td>\n",
              "      <td>35</td>\n",
              "      <td>0.0</td>\n",
              "    </tr>\n",
              "    <tr>\n",
              "      <th>YearsInCurrentRole</th>\n",
              "      <td>int64</td>\n",
              "      <td>0</td>\n",
              "      <td>1176</td>\n",
              "      <td>19</td>\n",
              "      <td>0.0</td>\n",
              "    </tr>\n",
              "    <tr>\n",
              "      <th>YearsSinceLastPromotion</th>\n",
              "      <td>int64</td>\n",
              "      <td>0</td>\n",
              "      <td>1176</td>\n",
              "      <td>16</td>\n",
              "      <td>0.0</td>\n",
              "    </tr>\n",
              "    <tr>\n",
              "      <th>YearsWithCurrManager</th>\n",
              "      <td>int64</td>\n",
              "      <td>0</td>\n",
              "      <td>1176</td>\n",
              "      <td>17</td>\n",
              "      <td>0.0</td>\n",
              "    </tr>\n",
              "    <tr>\n",
              "      <th>NumCompaniesWorked</th>\n",
              "      <td>int64</td>\n",
              "      <td>0</td>\n",
              "      <td>1176</td>\n",
              "      <td>10</td>\n",
              "      <td>0.0</td>\n",
              "    </tr>\n",
              "    <tr>\n",
              "      <th>MonthlyIncome</th>\n",
              "      <td>int64</td>\n",
              "      <td>0</td>\n",
              "      <td>1176</td>\n",
              "      <td>1090</td>\n",
              "      <td>0.0</td>\n",
              "    </tr>\n",
              "    <tr>\n",
              "      <th>BusinessTravel</th>\n",
              "      <td>object</td>\n",
              "      <td>0</td>\n",
              "      <td>1176</td>\n",
              "      <td>3</td>\n",
              "      <td>0.0</td>\n",
              "    </tr>\n",
              "    <tr>\n",
              "      <th>EmployeeNumber</th>\n",
              "      <td>int64</td>\n",
              "      <td>0</td>\n",
              "      <td>1176</td>\n",
              "      <td>1176</td>\n",
              "      <td>0.0</td>\n",
              "    </tr>\n",
              "    <tr>\n",
              "      <th>DailyRate</th>\n",
              "      <td>int64</td>\n",
              "      <td>0</td>\n",
              "      <td>1176</td>\n",
              "      <td>785</td>\n",
              "      <td>0.0</td>\n",
              "    </tr>\n",
              "    <tr>\n",
              "      <th>Department</th>\n",
              "      <td>object</td>\n",
              "      <td>0</td>\n",
              "      <td>1176</td>\n",
              "      <td>3</td>\n",
              "      <td>0.0</td>\n",
              "    </tr>\n",
              "    <tr>\n",
              "      <th>DistanceFromHome</th>\n",
              "      <td>int64</td>\n",
              "      <td>0</td>\n",
              "      <td>1176</td>\n",
              "      <td>29</td>\n",
              "      <td>0.0</td>\n",
              "    </tr>\n",
              "    <tr>\n",
              "      <th>Education</th>\n",
              "      <td>int64</td>\n",
              "      <td>0</td>\n",
              "      <td>1176</td>\n",
              "      <td>5</td>\n",
              "      <td>0.0</td>\n",
              "    </tr>\n",
              "    <tr>\n",
              "      <th>EducationField</th>\n",
              "      <td>object</td>\n",
              "      <td>0</td>\n",
              "      <td>1176</td>\n",
              "      <td>6</td>\n",
              "      <td>0.0</td>\n",
              "    </tr>\n",
              "    <tr>\n",
              "      <th>EmployeeCount</th>\n",
              "      <td>int64</td>\n",
              "      <td>0</td>\n",
              "      <td>1176</td>\n",
              "      <td>1</td>\n",
              "      <td>0.0</td>\n",
              "    </tr>\n",
              "    <tr>\n",
              "      <th>EnvironmentSatisfaction</th>\n",
              "      <td>int64</td>\n",
              "      <td>0</td>\n",
              "      <td>1176</td>\n",
              "      <td>4</td>\n",
              "      <td>0.0</td>\n",
              "    </tr>\n",
              "    <tr>\n",
              "      <th>MaritalStatus</th>\n",
              "      <td>object</td>\n",
              "      <td>0</td>\n",
              "      <td>1176</td>\n",
              "      <td>3</td>\n",
              "      <td>0.0</td>\n",
              "    </tr>\n",
              "    <tr>\n",
              "      <th>Gender</th>\n",
              "      <td>object</td>\n",
              "      <td>0</td>\n",
              "      <td>1176</td>\n",
              "      <td>2</td>\n",
              "      <td>0.0</td>\n",
              "    </tr>\n",
              "    <tr>\n",
              "      <th>HourlyRate</th>\n",
              "      <td>int64</td>\n",
              "      <td>0</td>\n",
              "      <td>1176</td>\n",
              "      <td>71</td>\n",
              "      <td>0.0</td>\n",
              "    </tr>\n",
              "    <tr>\n",
              "      <th>JobInvolvement</th>\n",
              "      <td>int64</td>\n",
              "      <td>0</td>\n",
              "      <td>1176</td>\n",
              "      <td>4</td>\n",
              "      <td>0.0</td>\n",
              "    </tr>\n",
              "    <tr>\n",
              "      <th>JobLevel</th>\n",
              "      <td>int64</td>\n",
              "      <td>0</td>\n",
              "      <td>1176</td>\n",
              "      <td>5</td>\n",
              "      <td>0.0</td>\n",
              "    </tr>\n",
              "    <tr>\n",
              "      <th>JobRole</th>\n",
              "      <td>object</td>\n",
              "      <td>0</td>\n",
              "      <td>1176</td>\n",
              "      <td>9</td>\n",
              "      <td>0.0</td>\n",
              "    </tr>\n",
              "    <tr>\n",
              "      <th>JobSatisfaction</th>\n",
              "      <td>int64</td>\n",
              "      <td>0</td>\n",
              "      <td>1176</td>\n",
              "      <td>4</td>\n",
              "      <td>0.0</td>\n",
              "    </tr>\n",
              "    <tr>\n",
              "      <th>Attrition</th>\n",
              "      <td>int64</td>\n",
              "      <td>0</td>\n",
              "      <td>1176</td>\n",
              "      <td>2</td>\n",
              "      <td>0.0</td>\n",
              "    </tr>\n",
              "  </tbody>\n",
              "</table>\n",
              "</div>"
            ],
            "text/plain": [
              "                            Type  Missing  Size  Unique  Missing_%\n",
              "Age                        int64        0  1176      43        0.0\n",
              "StockOptionLevel           int64        0  1176       4        0.0\n",
              "Over18                    object        0  1176       1        0.0\n",
              "OverTime                  object        0  1176       2        0.0\n",
              "PercentSalaryHike          int64        0  1176      15        0.0\n",
              "PerformanceRating          int64        0  1176       2        0.0\n",
              "RelationshipSatisfaction   int64        0  1176       4        0.0\n",
              "StandardHours              int64        0  1176       1        0.0\n",
              "TotalWorkingYears          int64        0  1176      39        0.0\n",
              "MonthlyRate                int64        0  1176    1145        0.0\n",
              "TrainingTimesLastYear      int64        0  1176       7        0.0\n",
              "WorkLifeBalance            int64        0  1176       4        0.0\n",
              "YearsAtCompany             int64        0  1176      35        0.0\n",
              "YearsInCurrentRole         int64        0  1176      19        0.0\n",
              "YearsSinceLastPromotion    int64        0  1176      16        0.0\n",
              "YearsWithCurrManager       int64        0  1176      17        0.0\n",
              "NumCompaniesWorked         int64        0  1176      10        0.0\n",
              "MonthlyIncome              int64        0  1176    1090        0.0\n",
              "BusinessTravel            object        0  1176       3        0.0\n",
              "EmployeeNumber             int64        0  1176    1176        0.0\n",
              "DailyRate                  int64        0  1176     785        0.0\n",
              "Department                object        0  1176       3        0.0\n",
              "DistanceFromHome           int64        0  1176      29        0.0\n",
              "Education                  int64        0  1176       5        0.0\n",
              "EducationField            object        0  1176       6        0.0\n",
              "EmployeeCount              int64        0  1176       1        0.0\n",
              "EnvironmentSatisfaction    int64        0  1176       4        0.0\n",
              "MaritalStatus             object        0  1176       3        0.0\n",
              "Gender                    object        0  1176       2        0.0\n",
              "HourlyRate                 int64        0  1176      71        0.0\n",
              "JobInvolvement             int64        0  1176       4        0.0\n",
              "JobLevel                   int64        0  1176       5        0.0\n",
              "JobRole                   object        0  1176       9        0.0\n",
              "JobSatisfaction            int64        0  1176       4        0.0\n",
              "Attrition                  int64        0  1176       2        0.0"
            ]
          },
          "metadata": {},
          "execution_count": 38
        }
      ]
    },
    {
      "cell_type": "markdown",
      "metadata": {
        "id": "iCknikf-0KNG"
      },
      "source": [
        "* Resumo de cada variável do dataset test"
      ]
    },
    {
      "cell_type": "code",
      "metadata": {
        "colab": {
          "base_uri": "https://localhost:8080/",
          "height": 1000
        },
        "id": "XLVZXo7Y0JSB",
        "outputId": "428ce12e-c2dc-4f54-ded1-0dd9882829ae"
      },
      "source": [
        "df_aux = pd.DataFrame({'Type': test.dtypes,\n",
        "                      'Missing': test.isna().sum(),\n",
        "                      'Size': test.shape[0],\n",
        "                       'Unique': test.nunique()\n",
        "                     })\n",
        "df_aux['Missing_%']= df_aux.Missing/df_aux.Size * 100\n",
        "df_aux.sort_values(by='Missing_%', ascending=False)"
      ],
      "execution_count": 39,
      "outputs": [
        {
          "output_type": "execute_result",
          "data": {
            "text/html": [
              "<div>\n",
              "<style scoped>\n",
              "    .dataframe tbody tr th:only-of-type {\n",
              "        vertical-align: middle;\n",
              "    }\n",
              "\n",
              "    .dataframe tbody tr th {\n",
              "        vertical-align: top;\n",
              "    }\n",
              "\n",
              "    .dataframe thead th {\n",
              "        text-align: right;\n",
              "    }\n",
              "</style>\n",
              "<table border=\"1\" class=\"dataframe\">\n",
              "  <thead>\n",
              "    <tr style=\"text-align: right;\">\n",
              "      <th></th>\n",
              "      <th>Type</th>\n",
              "      <th>Missing</th>\n",
              "      <th>Size</th>\n",
              "      <th>Unique</th>\n",
              "      <th>Missing_%</th>\n",
              "    </tr>\n",
              "  </thead>\n",
              "  <tbody>\n",
              "    <tr>\n",
              "      <th>Age</th>\n",
              "      <td>int64</td>\n",
              "      <td>0</td>\n",
              "      <td>294</td>\n",
              "      <td>43</td>\n",
              "      <td>0.0</td>\n",
              "    </tr>\n",
              "    <tr>\n",
              "      <th>StandardHours</th>\n",
              "      <td>int64</td>\n",
              "      <td>0</td>\n",
              "      <td>294</td>\n",
              "      <td>1</td>\n",
              "      <td>0.0</td>\n",
              "    </tr>\n",
              "    <tr>\n",
              "      <th>NumCompaniesWorked</th>\n",
              "      <td>int64</td>\n",
              "      <td>0</td>\n",
              "      <td>294</td>\n",
              "      <td>10</td>\n",
              "      <td>0.0</td>\n",
              "    </tr>\n",
              "    <tr>\n",
              "      <th>Over18</th>\n",
              "      <td>object</td>\n",
              "      <td>0</td>\n",
              "      <td>294</td>\n",
              "      <td>1</td>\n",
              "      <td>0.0</td>\n",
              "    </tr>\n",
              "    <tr>\n",
              "      <th>OverTime</th>\n",
              "      <td>object</td>\n",
              "      <td>0</td>\n",
              "      <td>294</td>\n",
              "      <td>2</td>\n",
              "      <td>0.0</td>\n",
              "    </tr>\n",
              "    <tr>\n",
              "      <th>PercentSalaryHike</th>\n",
              "      <td>int64</td>\n",
              "      <td>0</td>\n",
              "      <td>294</td>\n",
              "      <td>15</td>\n",
              "      <td>0.0</td>\n",
              "    </tr>\n",
              "    <tr>\n",
              "      <th>PerformanceRating</th>\n",
              "      <td>int64</td>\n",
              "      <td>0</td>\n",
              "      <td>294</td>\n",
              "      <td>2</td>\n",
              "      <td>0.0</td>\n",
              "    </tr>\n",
              "    <tr>\n",
              "      <th>RelationshipSatisfaction</th>\n",
              "      <td>int64</td>\n",
              "      <td>0</td>\n",
              "      <td>294</td>\n",
              "      <td>4</td>\n",
              "      <td>0.0</td>\n",
              "    </tr>\n",
              "    <tr>\n",
              "      <th>StockOptionLevel</th>\n",
              "      <td>int64</td>\n",
              "      <td>0</td>\n",
              "      <td>294</td>\n",
              "      <td>4</td>\n",
              "      <td>0.0</td>\n",
              "    </tr>\n",
              "    <tr>\n",
              "      <th>BusinessTravel</th>\n",
              "      <td>object</td>\n",
              "      <td>0</td>\n",
              "      <td>294</td>\n",
              "      <td>3</td>\n",
              "      <td>0.0</td>\n",
              "    </tr>\n",
              "    <tr>\n",
              "      <th>TotalWorkingYears</th>\n",
              "      <td>int64</td>\n",
              "      <td>0</td>\n",
              "      <td>294</td>\n",
              "      <td>35</td>\n",
              "      <td>0.0</td>\n",
              "    </tr>\n",
              "    <tr>\n",
              "      <th>TrainingTimesLastYear</th>\n",
              "      <td>int64</td>\n",
              "      <td>0</td>\n",
              "      <td>294</td>\n",
              "      <td>7</td>\n",
              "      <td>0.0</td>\n",
              "    </tr>\n",
              "    <tr>\n",
              "      <th>WorkLifeBalance</th>\n",
              "      <td>int64</td>\n",
              "      <td>0</td>\n",
              "      <td>294</td>\n",
              "      <td>4</td>\n",
              "      <td>0.0</td>\n",
              "    </tr>\n",
              "    <tr>\n",
              "      <th>YearsAtCompany</th>\n",
              "      <td>int64</td>\n",
              "      <td>0</td>\n",
              "      <td>294</td>\n",
              "      <td>28</td>\n",
              "      <td>0.0</td>\n",
              "    </tr>\n",
              "    <tr>\n",
              "      <th>YearsInCurrentRole</th>\n",
              "      <td>int64</td>\n",
              "      <td>0</td>\n",
              "      <td>294</td>\n",
              "      <td>19</td>\n",
              "      <td>0.0</td>\n",
              "    </tr>\n",
              "    <tr>\n",
              "      <th>YearsSinceLastPromotion</th>\n",
              "      <td>int64</td>\n",
              "      <td>0</td>\n",
              "      <td>294</td>\n",
              "      <td>15</td>\n",
              "      <td>0.0</td>\n",
              "    </tr>\n",
              "    <tr>\n",
              "      <th>MonthlyRate</th>\n",
              "      <td>int64</td>\n",
              "      <td>0</td>\n",
              "      <td>294</td>\n",
              "      <td>293</td>\n",
              "      <td>0.0</td>\n",
              "    </tr>\n",
              "    <tr>\n",
              "      <th>MonthlyIncome</th>\n",
              "      <td>int64</td>\n",
              "      <td>0</td>\n",
              "      <td>294</td>\n",
              "      <td>292</td>\n",
              "      <td>0.0</td>\n",
              "    </tr>\n",
              "    <tr>\n",
              "      <th>MaritalStatus</th>\n",
              "      <td>object</td>\n",
              "      <td>0</td>\n",
              "      <td>294</td>\n",
              "      <td>3</td>\n",
              "      <td>0.0</td>\n",
              "    </tr>\n",
              "    <tr>\n",
              "      <th>JobSatisfaction</th>\n",
              "      <td>int64</td>\n",
              "      <td>0</td>\n",
              "      <td>294</td>\n",
              "      <td>4</td>\n",
              "      <td>0.0</td>\n",
              "    </tr>\n",
              "    <tr>\n",
              "      <th>JobRole</th>\n",
              "      <td>object</td>\n",
              "      <td>0</td>\n",
              "      <td>294</td>\n",
              "      <td>9</td>\n",
              "      <td>0.0</td>\n",
              "    </tr>\n",
              "    <tr>\n",
              "      <th>JobLevel</th>\n",
              "      <td>int64</td>\n",
              "      <td>0</td>\n",
              "      <td>294</td>\n",
              "      <td>5</td>\n",
              "      <td>0.0</td>\n",
              "    </tr>\n",
              "    <tr>\n",
              "      <th>JobInvolvement</th>\n",
              "      <td>int64</td>\n",
              "      <td>0</td>\n",
              "      <td>294</td>\n",
              "      <td>4</td>\n",
              "      <td>0.0</td>\n",
              "    </tr>\n",
              "    <tr>\n",
              "      <th>HourlyRate</th>\n",
              "      <td>int64</td>\n",
              "      <td>0</td>\n",
              "      <td>294</td>\n",
              "      <td>70</td>\n",
              "      <td>0.0</td>\n",
              "    </tr>\n",
              "    <tr>\n",
              "      <th>Gender</th>\n",
              "      <td>object</td>\n",
              "      <td>0</td>\n",
              "      <td>294</td>\n",
              "      <td>2</td>\n",
              "      <td>0.0</td>\n",
              "    </tr>\n",
              "    <tr>\n",
              "      <th>EnvironmentSatisfaction</th>\n",
              "      <td>int64</td>\n",
              "      <td>0</td>\n",
              "      <td>294</td>\n",
              "      <td>4</td>\n",
              "      <td>0.0</td>\n",
              "    </tr>\n",
              "    <tr>\n",
              "      <th>EmployeeNumber</th>\n",
              "      <td>int64</td>\n",
              "      <td>0</td>\n",
              "      <td>294</td>\n",
              "      <td>294</td>\n",
              "      <td>0.0</td>\n",
              "    </tr>\n",
              "    <tr>\n",
              "      <th>EmployeeCount</th>\n",
              "      <td>int64</td>\n",
              "      <td>0</td>\n",
              "      <td>294</td>\n",
              "      <td>1</td>\n",
              "      <td>0.0</td>\n",
              "    </tr>\n",
              "    <tr>\n",
              "      <th>EducationField</th>\n",
              "      <td>object</td>\n",
              "      <td>0</td>\n",
              "      <td>294</td>\n",
              "      <td>6</td>\n",
              "      <td>0.0</td>\n",
              "    </tr>\n",
              "    <tr>\n",
              "      <th>Education</th>\n",
              "      <td>int64</td>\n",
              "      <td>0</td>\n",
              "      <td>294</td>\n",
              "      <td>5</td>\n",
              "      <td>0.0</td>\n",
              "    </tr>\n",
              "    <tr>\n",
              "      <th>DistanceFromHome</th>\n",
              "      <td>int64</td>\n",
              "      <td>0</td>\n",
              "      <td>294</td>\n",
              "      <td>29</td>\n",
              "      <td>0.0</td>\n",
              "    </tr>\n",
              "    <tr>\n",
              "      <th>Department</th>\n",
              "      <td>object</td>\n",
              "      <td>0</td>\n",
              "      <td>294</td>\n",
              "      <td>3</td>\n",
              "      <td>0.0</td>\n",
              "    </tr>\n",
              "    <tr>\n",
              "      <th>DailyRate</th>\n",
              "      <td>int64</td>\n",
              "      <td>0</td>\n",
              "      <td>294</td>\n",
              "      <td>265</td>\n",
              "      <td>0.0</td>\n",
              "    </tr>\n",
              "    <tr>\n",
              "      <th>YearsWithCurrManager</th>\n",
              "      <td>int64</td>\n",
              "      <td>0</td>\n",
              "      <td>294</td>\n",
              "      <td>17</td>\n",
              "      <td>0.0</td>\n",
              "    </tr>\n",
              "  </tbody>\n",
              "</table>\n",
              "</div>"
            ],
            "text/plain": [
              "                            Type  Missing  Size  Unique  Missing_%\n",
              "Age                        int64        0   294      43        0.0\n",
              "StandardHours              int64        0   294       1        0.0\n",
              "NumCompaniesWorked         int64        0   294      10        0.0\n",
              "Over18                    object        0   294       1        0.0\n",
              "OverTime                  object        0   294       2        0.0\n",
              "PercentSalaryHike          int64        0   294      15        0.0\n",
              "PerformanceRating          int64        0   294       2        0.0\n",
              "RelationshipSatisfaction   int64        0   294       4        0.0\n",
              "StockOptionLevel           int64        0   294       4        0.0\n",
              "BusinessTravel            object        0   294       3        0.0\n",
              "TotalWorkingYears          int64        0   294      35        0.0\n",
              "TrainingTimesLastYear      int64        0   294       7        0.0\n",
              "WorkLifeBalance            int64        0   294       4        0.0\n",
              "YearsAtCompany             int64        0   294      28        0.0\n",
              "YearsInCurrentRole         int64        0   294      19        0.0\n",
              "YearsSinceLastPromotion    int64        0   294      15        0.0\n",
              "MonthlyRate                int64        0   294     293        0.0\n",
              "MonthlyIncome              int64        0   294     292        0.0\n",
              "MaritalStatus             object        0   294       3        0.0\n",
              "JobSatisfaction            int64        0   294       4        0.0\n",
              "JobRole                   object        0   294       9        0.0\n",
              "JobLevel                   int64        0   294       5        0.0\n",
              "JobInvolvement             int64        0   294       4        0.0\n",
              "HourlyRate                 int64        0   294      70        0.0\n",
              "Gender                    object        0   294       2        0.0\n",
              "EnvironmentSatisfaction    int64        0   294       4        0.0\n",
              "EmployeeNumber             int64        0   294     294        0.0\n",
              "EmployeeCount              int64        0   294       1        0.0\n",
              "EducationField            object        0   294       6        0.0\n",
              "Education                  int64        0   294       5        0.0\n",
              "DistanceFromHome           int64        0   294      29        0.0\n",
              "Department                object        0   294       3        0.0\n",
              "DailyRate                  int64        0   294     265        0.0\n",
              "YearsWithCurrManager       int64        0   294      17        0.0"
            ]
          },
          "metadata": {},
          "execution_count": 39
        }
      ]
    },
    {
      "cell_type": "markdown",
      "metadata": {
        "id": "028ahXBf145P"
      },
      "source": [
        "* Estatísticas descritivas"
      ]
    },
    {
      "cell_type": "code",
      "metadata": {
        "colab": {
          "base_uri": "https://localhost:8080/",
          "height": 896
        },
        "id": "lvELPZkECQwT",
        "outputId": "d30cec9d-49c9-4a55-cba1-4810bcea3132"
      },
      "source": [
        "train.describe().transpose()"
      ],
      "execution_count": 40,
      "outputs": [
        {
          "output_type": "execute_result",
          "data": {
            "text/html": [
              "<div>\n",
              "<style scoped>\n",
              "    .dataframe tbody tr th:only-of-type {\n",
              "        vertical-align: middle;\n",
              "    }\n",
              "\n",
              "    .dataframe tbody tr th {\n",
              "        vertical-align: top;\n",
              "    }\n",
              "\n",
              "    .dataframe thead th {\n",
              "        text-align: right;\n",
              "    }\n",
              "</style>\n",
              "<table border=\"1\" class=\"dataframe\">\n",
              "  <thead>\n",
              "    <tr style=\"text-align: right;\">\n",
              "      <th></th>\n",
              "      <th>count</th>\n",
              "      <th>mean</th>\n",
              "      <th>std</th>\n",
              "      <th>min</th>\n",
              "      <th>25%</th>\n",
              "      <th>50%</th>\n",
              "      <th>75%</th>\n",
              "      <th>max</th>\n",
              "    </tr>\n",
              "  </thead>\n",
              "  <tbody>\n",
              "    <tr>\n",
              "      <th>Age</th>\n",
              "      <td>1176.0</td>\n",
              "      <td>36.964286</td>\n",
              "      <td>9.148817</td>\n",
              "      <td>18.0</td>\n",
              "      <td>30.00</td>\n",
              "      <td>36.0</td>\n",
              "      <td>43.00</td>\n",
              "      <td>60.0</td>\n",
              "    </tr>\n",
              "    <tr>\n",
              "      <th>DailyRate</th>\n",
              "      <td>1176.0</td>\n",
              "      <td>801.496599</td>\n",
              "      <td>400.618020</td>\n",
              "      <td>102.0</td>\n",
              "      <td>468.25</td>\n",
              "      <td>801.5</td>\n",
              "      <td>1157.25</td>\n",
              "      <td>1499.0</td>\n",
              "    </tr>\n",
              "    <tr>\n",
              "      <th>DistanceFromHome</th>\n",
              "      <td>1176.0</td>\n",
              "      <td>9.097789</td>\n",
              "      <td>8.002540</td>\n",
              "      <td>1.0</td>\n",
              "      <td>2.00</td>\n",
              "      <td>7.0</td>\n",
              "      <td>14.00</td>\n",
              "      <td>29.0</td>\n",
              "    </tr>\n",
              "    <tr>\n",
              "      <th>Education</th>\n",
              "      <td>1176.0</td>\n",
              "      <td>2.917517</td>\n",
              "      <td>1.022720</td>\n",
              "      <td>1.0</td>\n",
              "      <td>2.00</td>\n",
              "      <td>3.0</td>\n",
              "      <td>4.00</td>\n",
              "      <td>5.0</td>\n",
              "    </tr>\n",
              "    <tr>\n",
              "      <th>EmployeeCount</th>\n",
              "      <td>1176.0</td>\n",
              "      <td>1.000000</td>\n",
              "      <td>0.000000</td>\n",
              "      <td>1.0</td>\n",
              "      <td>1.00</td>\n",
              "      <td>1.0</td>\n",
              "      <td>1.00</td>\n",
              "      <td>1.0</td>\n",
              "    </tr>\n",
              "    <tr>\n",
              "      <th>EmployeeNumber</th>\n",
              "      <td>1176.0</td>\n",
              "      <td>1038.992347</td>\n",
              "      <td>599.144223</td>\n",
              "      <td>1.0</td>\n",
              "      <td>500.75</td>\n",
              "      <td>1040.5</td>\n",
              "      <td>1574.50</td>\n",
              "      <td>2065.0</td>\n",
              "    </tr>\n",
              "    <tr>\n",
              "      <th>EnvironmentSatisfaction</th>\n",
              "      <td>1176.0</td>\n",
              "      <td>2.728741</td>\n",
              "      <td>1.096404</td>\n",
              "      <td>1.0</td>\n",
              "      <td>2.00</td>\n",
              "      <td>3.0</td>\n",
              "      <td>4.00</td>\n",
              "      <td>4.0</td>\n",
              "    </tr>\n",
              "    <tr>\n",
              "      <th>HourlyRate</th>\n",
              "      <td>1176.0</td>\n",
              "      <td>65.398810</td>\n",
              "      <td>20.289856</td>\n",
              "      <td>30.0</td>\n",
              "      <td>48.00</td>\n",
              "      <td>65.0</td>\n",
              "      <td>83.00</td>\n",
              "      <td>100.0</td>\n",
              "    </tr>\n",
              "    <tr>\n",
              "      <th>JobInvolvement</th>\n",
              "      <td>1176.0</td>\n",
              "      <td>2.725340</td>\n",
              "      <td>0.708781</td>\n",
              "      <td>1.0</td>\n",
              "      <td>2.00</td>\n",
              "      <td>3.0</td>\n",
              "      <td>3.00</td>\n",
              "      <td>4.0</td>\n",
              "    </tr>\n",
              "    <tr>\n",
              "      <th>JobLevel</th>\n",
              "      <td>1176.0</td>\n",
              "      <td>2.071429</td>\n",
              "      <td>1.118510</td>\n",
              "      <td>1.0</td>\n",
              "      <td>1.00</td>\n",
              "      <td>2.0</td>\n",
              "      <td>3.00</td>\n",
              "      <td>5.0</td>\n",
              "    </tr>\n",
              "    <tr>\n",
              "      <th>JobSatisfaction</th>\n",
              "      <td>1176.0</td>\n",
              "      <td>2.739796</td>\n",
              "      <td>1.109486</td>\n",
              "      <td>1.0</td>\n",
              "      <td>2.00</td>\n",
              "      <td>3.0</td>\n",
              "      <td>4.00</td>\n",
              "      <td>4.0</td>\n",
              "    </tr>\n",
              "    <tr>\n",
              "      <th>MonthlyIncome</th>\n",
              "      <td>1176.0</td>\n",
              "      <td>6562.642007</td>\n",
              "      <td>4780.847303</td>\n",
              "      <td>1009.0</td>\n",
              "      <td>2870.00</td>\n",
              "      <td>4968.0</td>\n",
              "      <td>8500.00</td>\n",
              "      <td>19973.0</td>\n",
              "    </tr>\n",
              "    <tr>\n",
              "      <th>MonthlyRate</th>\n",
              "      <td>1176.0</td>\n",
              "      <td>14241.102891</td>\n",
              "      <td>7153.901829</td>\n",
              "      <td>2094.0</td>\n",
              "      <td>7849.50</td>\n",
              "      <td>14174.0</td>\n",
              "      <td>20344.50</td>\n",
              "      <td>26999.0</td>\n",
              "    </tr>\n",
              "    <tr>\n",
              "      <th>NumCompaniesWorked</th>\n",
              "      <td>1176.0</td>\n",
              "      <td>2.698980</td>\n",
              "      <td>2.504369</td>\n",
              "      <td>0.0</td>\n",
              "      <td>1.00</td>\n",
              "      <td>2.0</td>\n",
              "      <td>4.00</td>\n",
              "      <td>9.0</td>\n",
              "    </tr>\n",
              "    <tr>\n",
              "      <th>PercentSalaryHike</th>\n",
              "      <td>1176.0</td>\n",
              "      <td>15.190476</td>\n",
              "      <td>3.626303</td>\n",
              "      <td>11.0</td>\n",
              "      <td>12.00</td>\n",
              "      <td>14.0</td>\n",
              "      <td>18.00</td>\n",
              "      <td>25.0</td>\n",
              "    </tr>\n",
              "    <tr>\n",
              "      <th>PerformanceRating</th>\n",
              "      <td>1176.0</td>\n",
              "      <td>3.150510</td>\n",
              "      <td>0.357723</td>\n",
              "      <td>3.0</td>\n",
              "      <td>3.00</td>\n",
              "      <td>3.0</td>\n",
              "      <td>3.00</td>\n",
              "      <td>4.0</td>\n",
              "    </tr>\n",
              "    <tr>\n",
              "      <th>RelationshipSatisfaction</th>\n",
              "      <td>1176.0</td>\n",
              "      <td>2.702381</td>\n",
              "      <td>1.086017</td>\n",
              "      <td>1.0</td>\n",
              "      <td>2.00</td>\n",
              "      <td>3.0</td>\n",
              "      <td>4.00</td>\n",
              "      <td>4.0</td>\n",
              "    </tr>\n",
              "    <tr>\n",
              "      <th>StandardHours</th>\n",
              "      <td>1176.0</td>\n",
              "      <td>80.000000</td>\n",
              "      <td>0.000000</td>\n",
              "      <td>80.0</td>\n",
              "      <td>80.00</td>\n",
              "      <td>80.0</td>\n",
              "      <td>80.00</td>\n",
              "      <td>80.0</td>\n",
              "    </tr>\n",
              "    <tr>\n",
              "      <th>StockOptionLevel</th>\n",
              "      <td>1176.0</td>\n",
              "      <td>0.789966</td>\n",
              "      <td>0.851093</td>\n",
              "      <td>0.0</td>\n",
              "      <td>0.00</td>\n",
              "      <td>1.0</td>\n",
              "      <td>1.00</td>\n",
              "      <td>3.0</td>\n",
              "    </tr>\n",
              "    <tr>\n",
              "      <th>TotalWorkingYears</th>\n",
              "      <td>1176.0</td>\n",
              "      <td>11.309524</td>\n",
              "      <td>7.864238</td>\n",
              "      <td>0.0</td>\n",
              "      <td>6.00</td>\n",
              "      <td>10.0</td>\n",
              "      <td>15.00</td>\n",
              "      <td>40.0</td>\n",
              "    </tr>\n",
              "    <tr>\n",
              "      <th>TrainingTimesLastYear</th>\n",
              "      <td>1176.0</td>\n",
              "      <td>2.793367</td>\n",
              "      <td>1.298375</td>\n",
              "      <td>0.0</td>\n",
              "      <td>2.00</td>\n",
              "      <td>3.0</td>\n",
              "      <td>3.00</td>\n",
              "      <td>6.0</td>\n",
              "    </tr>\n",
              "    <tr>\n",
              "      <th>WorkLifeBalance</th>\n",
              "      <td>1176.0</td>\n",
              "      <td>2.762755</td>\n",
              "      <td>0.709095</td>\n",
              "      <td>1.0</td>\n",
              "      <td>2.00</td>\n",
              "      <td>3.0</td>\n",
              "      <td>3.00</td>\n",
              "      <td>4.0</td>\n",
              "    </tr>\n",
              "    <tr>\n",
              "      <th>YearsAtCompany</th>\n",
              "      <td>1176.0</td>\n",
              "      <td>6.978741</td>\n",
              "      <td>6.066053</td>\n",
              "      <td>0.0</td>\n",
              "      <td>3.00</td>\n",
              "      <td>5.0</td>\n",
              "      <td>9.00</td>\n",
              "      <td>40.0</td>\n",
              "    </tr>\n",
              "    <tr>\n",
              "      <th>YearsInCurrentRole</th>\n",
              "      <td>1176.0</td>\n",
              "      <td>4.187075</td>\n",
              "      <td>3.571142</td>\n",
              "      <td>0.0</td>\n",
              "      <td>2.00</td>\n",
              "      <td>3.0</td>\n",
              "      <td>7.00</td>\n",
              "      <td>18.0</td>\n",
              "    </tr>\n",
              "    <tr>\n",
              "      <th>YearsSinceLastPromotion</th>\n",
              "      <td>1176.0</td>\n",
              "      <td>2.259354</td>\n",
              "      <td>3.321099</td>\n",
              "      <td>0.0</td>\n",
              "      <td>0.00</td>\n",
              "      <td>1.0</td>\n",
              "      <td>3.00</td>\n",
              "      <td>15.0</td>\n",
              "    </tr>\n",
              "    <tr>\n",
              "      <th>YearsWithCurrManager</th>\n",
              "      <td>1176.0</td>\n",
              "      <td>4.090986</td>\n",
              "      <td>3.533579</td>\n",
              "      <td>0.0</td>\n",
              "      <td>2.00</td>\n",
              "      <td>3.0</td>\n",
              "      <td>7.00</td>\n",
              "      <td>17.0</td>\n",
              "    </tr>\n",
              "    <tr>\n",
              "      <th>Attrition</th>\n",
              "      <td>1176.0</td>\n",
              "      <td>0.161565</td>\n",
              "      <td>0.368208</td>\n",
              "      <td>0.0</td>\n",
              "      <td>0.00</td>\n",
              "      <td>0.0</td>\n",
              "      <td>0.00</td>\n",
              "      <td>1.0</td>\n",
              "    </tr>\n",
              "  </tbody>\n",
              "</table>\n",
              "</div>"
            ],
            "text/plain": [
              "                           count          mean  ...       75%      max\n",
              "Age                       1176.0     36.964286  ...     43.00     60.0\n",
              "DailyRate                 1176.0    801.496599  ...   1157.25   1499.0\n",
              "DistanceFromHome          1176.0      9.097789  ...     14.00     29.0\n",
              "Education                 1176.0      2.917517  ...      4.00      5.0\n",
              "EmployeeCount             1176.0      1.000000  ...      1.00      1.0\n",
              "EmployeeNumber            1176.0   1038.992347  ...   1574.50   2065.0\n",
              "EnvironmentSatisfaction   1176.0      2.728741  ...      4.00      4.0\n",
              "HourlyRate                1176.0     65.398810  ...     83.00    100.0\n",
              "JobInvolvement            1176.0      2.725340  ...      3.00      4.0\n",
              "JobLevel                  1176.0      2.071429  ...      3.00      5.0\n",
              "JobSatisfaction           1176.0      2.739796  ...      4.00      4.0\n",
              "MonthlyIncome             1176.0   6562.642007  ...   8500.00  19973.0\n",
              "MonthlyRate               1176.0  14241.102891  ...  20344.50  26999.0\n",
              "NumCompaniesWorked        1176.0      2.698980  ...      4.00      9.0\n",
              "PercentSalaryHike         1176.0     15.190476  ...     18.00     25.0\n",
              "PerformanceRating         1176.0      3.150510  ...      3.00      4.0\n",
              "RelationshipSatisfaction  1176.0      2.702381  ...      4.00      4.0\n",
              "StandardHours             1176.0     80.000000  ...     80.00     80.0\n",
              "StockOptionLevel          1176.0      0.789966  ...      1.00      3.0\n",
              "TotalWorkingYears         1176.0     11.309524  ...     15.00     40.0\n",
              "TrainingTimesLastYear     1176.0      2.793367  ...      3.00      6.0\n",
              "WorkLifeBalance           1176.0      2.762755  ...      3.00      4.0\n",
              "YearsAtCompany            1176.0      6.978741  ...      9.00     40.0\n",
              "YearsInCurrentRole        1176.0      4.187075  ...      7.00     18.0\n",
              "YearsSinceLastPromotion   1176.0      2.259354  ...      3.00     15.0\n",
              "YearsWithCurrManager      1176.0      4.090986  ...      7.00     17.0\n",
              "Attrition                 1176.0      0.161565  ...      0.00      1.0\n",
              "\n",
              "[27 rows x 8 columns]"
            ]
          },
          "metadata": {},
          "execution_count": 40
        }
      ]
    },
    {
      "cell_type": "markdown",
      "metadata": {
        "id": "BkNw6Gzt2BnF"
      },
      "source": [
        "* Visualização "
      ]
    },
    {
      "cell_type": "markdown",
      "metadata": {
        "id": "y8WqGUNx2Nme"
      },
      "source": [
        "Gráficos de colunas"
      ]
    },
    {
      "cell_type": "code",
      "metadata": {
        "id": "gMlLz_mf2LLl"
      },
      "source": [
        "def grafico_com_porcentagem(df,feature,hue):\n",
        "    total = len(df)\n",
        "    ax =  sns.countplot(x=feature,hue=hue, data=df,color = \"#2b8cbe\")\n",
        "    ax.set_ylim(0,total*1.1) # Ajusta altura do frame\n",
        "    for p in ax.patches:\n",
        "        x = p.get_x() + p.get_width()/2\n",
        "        y = p.get_height()\n",
        "        ax.annotate('{:.2f}%'.format(100*p.get_height()/total), (x, y+10), ha='center')\n",
        "    return ax\n",
        "def grafico_com_porcentagem_1(g):\n",
        "    g.ax.set_ylim(0,100)\n",
        "    for p in g.ax.patches:\n",
        "        x = p.get_x() + p.get_width()/2\n",
        "        y = p.get_height()\n",
        "        g.ax.annotate('{:.2f}%'.format(p.get_height()), (x, y+2), ha='center')\n",
        "    return g"
      ],
      "execution_count": 41,
      "outputs": []
    },
    {
      "cell_type": "code",
      "metadata": {
        "colab": {
          "base_uri": "https://localhost:8080/",
          "height": 402
        },
        "id": "hB853sjp2XWz",
        "outputId": "f6e06aab-7a1c-4a50-f351-2e1dc2a72920"
      },
      "source": [
        "plt.figure(figsize=(20,8))\n",
        "plt.subplot(221),grafico_com_porcentagem(train,'Department','Attrition')\n",
        "plt.subplot(222),grafico_com_porcentagem(train,'Gender','Attrition')\n",
        "plt.subplot(223),grafico_com_porcentagem(train,'Over18','Attrition')\n",
        "plt.subplot(224),grafico_com_porcentagem(train,'OverTime','Attrition')\n",
        "plt.show()"
      ],
      "execution_count": 42,
      "outputs": [
        {
          "output_type": "display_data",
          "data": {
            "image/png": "[encoded data removed]",
            "text/plain": [
              "<Figure size 1440x576 with 4 Axes>"
            ]
          },
          "metadata": {
            "needs_background": "light"
          }
        }
      ]
    },
    {
      "cell_type": "code",
      "metadata": {
        "colab": {
          "base_uri": "https://localhost:8080/",
          "height": 347
        },
        "id": "n9Z-Bdx-Pb3e",
        "outputId": "c9e26978-3844-4334-865a-1553704d9315"
      },
      "source": [
        "df1 = train.groupby('Gender')['Attrition'].value_counts(normalize=True)*100\n",
        "df1 = df1.rename('percent').reset_index().sort_values(by=['percent'], ascending = True)\n",
        "\n",
        "g = sns.catplot(x='Gender',y='percent',hue='Attrition',kind='bar',data=df1, height=5,aspect = 3,palette=\"tab10\")\n",
        "grafico_com_porcentagem_1(g)\n",
        "plt.title('Taxa de funcionário saiu da empresa ou não/ Gênero \\n', fontsize=20)\n",
        "plt.show()"
      ],
      "execution_count": 43,
      "outputs": [
        {
          "output_type": "display_data",
          "data": {
            "image/png": "[encoded data removed]",
            "text/plain": [
              "<Figure size 1128.62x360 with 1 Axes>"
            ]
          },
          "metadata": {
            "needs_background": "light"
          }
        }
      ]
    },
    {
      "cell_type": "code",
      "metadata": {
        "colab": {
          "base_uri": "https://localhost:8080/",
          "height": 347
        },
        "id": "c7KoElgEV1h5",
        "outputId": "e057cd88-72f4-41bf-a21b-d4462d525bef"
      },
      "source": [
        "df1 = train.groupby('Department')['Attrition'].value_counts(normalize=True)*100\n",
        "df1 = df1.rename('percent').reset_index().sort_values(by=['percent'], ascending = True)\n",
        "\n",
        "g = sns.catplot(x='Department',y='percent',hue='Attrition',kind='bar',data=df1, height=5,aspect = 3,palette=\"tab10\")\n",
        "grafico_com_porcentagem_1(g)\n",
        "plt.title('Taxa de funcionário saiu da empresa ou não/ Departamento do funcionário \\n', fontsize=20)\n",
        "plt.show()"
      ],
      "execution_count": 44,
      "outputs": [
        {
          "output_type": "display_data",
          "data": {
            "image/png": "[encoded data removed]",
            "text/plain": [
              "<Figure size 1128.62x360 with 1 Axes>"
            ]
          },
          "metadata": {
            "needs_background": "light"
          }
        }
      ]
    },
    {
      "cell_type": "code",
      "metadata": {
        "colab": {
          "base_uri": "https://localhost:8080/",
          "height": 349
        },
        "id": "aSOCxzXnWd9Z",
        "outputId": "6776b04b-4203-4811-96a5-dcba07bf1262"
      },
      "source": [
        "df1 = train.groupby('EducationField')['Attrition'].value_counts(normalize=True)*100\n",
        "df1 = df1.rename('percent').reset_index().sort_values(by=['percent'], ascending = True)\n",
        "\n",
        "g = sns.catplot(x='EducationField',y='percent',hue='Attrition',kind='bar',data=df1, height=5,aspect = 3,palette=\"tab10\")\n",
        "grafico_com_porcentagem_1(g)\n",
        "plt.title('Taxa de funcionário saiu da empresa ou não/ Área de educação \\n', fontsize=20)\n",
        "plt.show()"
      ],
      "execution_count": 186,
      "outputs": [
        {
          "output_type": "display_data",
          "data": {
            "image/png": "[encoded data removed]",
            "text/plain": [
              "<Figure size 1128.62x360 with 1 Axes>"
            ]
          },
          "metadata": {
            "needs_background": "light"
          }
        }
      ]
    },
    {
      "cell_type": "code",
      "metadata": {
        "colab": {
          "base_uri": "https://localhost:8080/",
          "height": 349
        },
        "id": "uV0T2HQ9XoiX",
        "outputId": "88eb4924-9986-46e5-9417-085b949d946f"
      },
      "source": [
        "df1 = train.groupby('YearsWithCurrManager')['Attrition'].value_counts(normalize=True)*100\n",
        "df1 = df1.rename('percent').reset_index().sort_values(by=['percent'], ascending = True)\n",
        "\n",
        "g = sns.catplot(x='YearsWithCurrManager',y='percent',hue='Attrition',kind='bar',data=df1, height=5,aspect = 3,palette=\"tab10\")\n",
        "grafico_com_porcentagem_1(g)\n",
        "plt.title('Taxa de funcionário saiu da empresa ou não/ Número de anos com o atual gerente \\n', fontsize=20)\n",
        "plt.show()"
      ],
      "execution_count": 190,
      "outputs": [
        {
          "output_type": "display_data",
          "data": {
            "image/png": "[encoded data removed]",
            "text/plain": [
              "<Figure size 1128.62x360 with 1 Axes>"
            ]
          },
          "metadata": {
            "needs_background": "light"
          }
        }
      ]
    },
    {
      "cell_type": "code",
      "metadata": {
        "colab": {
          "base_uri": "https://localhost:8080/",
          "height": 349
        },
        "id": "K1ZBV9l9Y7d8",
        "outputId": "d9912a42-d9a0-465d-ac76-fa0684b26aa6"
      },
      "source": [
        "df1 = train.groupby('YearsSinceLastPromotion')['Attrition'].value_counts(normalize=True)*100\n",
        "df1 = df1.rename('percent').reset_index().sort_values(by=['percent'], ascending = True)\n",
        "\n",
        "g = sns.catplot(x='YearsSinceLastPromotion',y='percent',hue='Attrition',kind='bar',data=df1, height=5,aspect = 3,palette=\"tab10\")\n",
        "grafico_com_porcentagem_1(g)\n",
        "plt.title('Taxa de funcionário saiu da empresa ou não/ Número de anos desde a última promoção \\n', fontsize=20)\n",
        "plt.show()"
      ],
      "execution_count": 191,
      "outputs": [
        {
          "output_type": "display_data",
          "data": {
            "image/png": "[encoded data removed]",
            "text/plain": [
              "<Figure size 1128.62x360 with 1 Axes>"
            ]
          },
          "metadata": {
            "needs_background": "light"
          }
        }
      ]
    },
    {
      "cell_type": "code",
      "metadata": {
        "colab": {
          "base_uri": "https://localhost:8080/",
          "height": 347
        },
        "id": "XnypLIyGaCwl",
        "outputId": "259f2450-74ae-4895-c2ed-ad5000c4914c"
      },
      "source": [
        "df1 = train.groupby('Education')['Attrition'].value_counts(normalize=True)*100\n",
        "df1 = df1.rename('percent').reset_index().sort_values(by=['percent'], ascending = True)\n",
        "\n",
        "g = sns.catplot(x='Education',y='percent',hue='Attrition',kind='bar',data=df1, height=5,aspect = 3,palette=\"tab10\")\n",
        "grafico_com_porcentagem_1(g)\n",
        "plt.title('Taxa de funcionário saiu da empresa ou não/ Educação \\n', fontsize=20)\n",
        "plt.show()"
      ],
      "execution_count": 195,
      "outputs": [
        {
          "output_type": "display_data",
          "data": {
            "image/png": "[encoded data removed]",
            "text/plain": [
              "<Figure size 1128.62x360 with 1 Axes>"
            ]
          },
          "metadata": {
            "needs_background": "light"
          }
        }
      ]
    },
    {
      "cell_type": "code",
      "metadata": {
        "colab": {
          "base_uri": "https://localhost:8080/",
          "height": 433
        },
        "id": "AG8r-mDhar3b",
        "outputId": "78834dd8-dafb-4dbf-9fd1-30d13840f7ba"
      },
      "source": [
        "df1 = train.groupby('JobSatisfaction')['Attrition'].value_counts(normalize=True)*100\n",
        "df1 = df1.rename('percent').reset_index().sort_values(by=['percent'], ascending = True)\n",
        "\n",
        "g = sns.catplot(x='JobSatisfaction',y='percent',hue='Attrition',kind='bar',data=df1, height=5,aspect = 3,palette=\"tab10\")\n",
        "grafico_com_porcentagem_1(g)\n",
        "plt.title('Taxa de funcionário saiu da empresa ou não/ Satisfação no Trabalho \\n', fontsize=20)\n",
        "plt.show()"
      ],
      "execution_count": 199,
      "outputs": [
        {
          "output_type": "display_data",
          "data": {
            "image/png": "[encoded data removed]",
            "text/plain": [
              "<Figure size 1128.62x360 with 1 Axes>"
            ]
          },
          "metadata": {
            "needs_background": "light"
          }
        }
      ]
    },
    {
      "cell_type": "code",
      "metadata": {
        "colab": {
          "base_uri": "https://localhost:8080/",
          "height": 493
        },
        "id": "zGz08yb5kHhT",
        "outputId": "4bd4687d-49dc-4cdc-caef-bdfbf018f827"
      },
      "source": [
        "plt.figure(figsize=(12,8))\n",
        "sns.scatterplot(data=train, x= 'TotalWorkingYears', y=\"MonthlyIncome\", hue=\"Attrition\")\n",
        "plt.title('Experiência de trabalho total de um funcionário/ enda mensal do empregado em dólares americanos \\n', fontsize=20)\n",
        "plt.show()"
      ],
      "execution_count": 225,
      "outputs": [
        {
          "output_type": "display_data",
          "data": {
            "image/png": "[encoded data removed]",
            "text/plain": [
              "<Figure size 864x576 with 1 Axes>"
            ]
          },
          "metadata": {
            "needs_background": "light"
          }
        }
      ]
    },
    {
      "cell_type": "markdown",
      "metadata": {
        "id": "TreYElDK-O9u"
      },
      "source": [
        "### Pré-processamento e modelagem dos dados"
      ]
    },
    {
      "cell_type": "markdown",
      "metadata": {
        "id": "tEREJUsp_zfV"
      },
      "source": [
        "* Fazendo uma cópia do dataset train"
      ]
    },
    {
      "cell_type": "code",
      "metadata": {
        "id": "RfVxry0Q_6Ra"
      },
      "source": [
        "X = train.copy()"
      ],
      "execution_count": 163,
      "outputs": []
    },
    {
      "cell_type": "markdown",
      "metadata": {
        "id": "5qAIJyXrCjYJ"
      },
      "source": [
        "**Dividir dados**"
      ]
    },
    {
      "cell_type": "markdown",
      "metadata": {
        "id": "I4uksQ3v5BSN"
      },
      "source": [
        "* Separando a variável resposta das variáveis preditoras"
      ]
    },
    {
      "cell_type": "code",
      "metadata": {
        "id": "YdBzOsBOCfCO"
      },
      "source": [
        "y= X[[\"Attrition\"]]\n",
        "X = X.drop(['Attrition'],axis=1)"
      ],
      "execution_count": 164,
      "outputs": []
    },
    {
      "cell_type": "markdown",
      "metadata": {
        "id": "iG4O2m5y6RkM"
      },
      "source": [
        "* Concatenando o dataset X com o dataset test"
      ]
    },
    {
      "cell_type": "code",
      "metadata": {
        "id": "3MVuWS8DCro6"
      },
      "source": [
        "All_data = pd.concat([X, test], axis=0)"
      ],
      "execution_count": 165,
      "outputs": []
    },
    {
      "cell_type": "markdown",
      "metadata": {
        "id": "Yt1kRWHEOVfx"
      },
      "source": [
        "* Listando os índices das variáveis categóricas"
      ]
    },
    {
      "cell_type": "code",
      "metadata": {
        "colab": {
          "base_uri": "https://localhost:8080/"
        },
        "id": "SE-4ocv5OYLv",
        "outputId": "25e1468c-211a-4736-c482-dd43977f6c4b"
      },
      "source": [
        "cat_cols=All_data.select_dtypes(\"object\").columns.tolist()\n",
        "cat_cols"
      ],
      "execution_count": 166,
      "outputs": [
        {
          "output_type": "execute_result",
          "data": {
            "text/plain": [
              "['BusinessTravel',\n",
              " 'Department',\n",
              " 'EducationField',\n",
              " 'Gender',\n",
              " 'JobRole',\n",
              " 'MaritalStatus',\n",
              " 'Over18',\n",
              " 'OverTime']"
            ]
          },
          "metadata": {},
          "execution_count": 166
        }
      ]
    },
    {
      "cell_type": "markdown",
      "metadata": {
        "id": "rz-3ugZQ6eK_"
      },
      "source": [
        "* Criando variáveis fictícias para as variáveis categóricas"
      ]
    },
    {
      "cell_type": "code",
      "metadata": {
        "id": "8FymB71kC0Au"
      },
      "source": [
        "all_data = pd.get_dummies(All_data, columns=cat_cols)"
      ],
      "execution_count": 167,
      "outputs": []
    },
    {
      "cell_type": "markdown",
      "metadata": {
        "id": "_nqsXahHQUWs"
      },
      "source": [
        "* Uma visão geral das estatísticas:"
      ]
    },
    {
      "cell_type": "code",
      "metadata": {
        "colab": {
          "base_uri": "https://localhost:8080/",
          "height": 206
        },
        "id": "1Av-7frxOnSG",
        "outputId": "811768b7-feff-4882-9fc8-8ae960fca2d0"
      },
      "source": [
        "df_stats = all_data.describe().transpose()\n",
        "df_stats.head(5)"
      ],
      "execution_count": 168,
      "outputs": [
        {
          "output_type": "execute_result",
          "data": {
            "text/html": [
              "<div>\n",
              "<style scoped>\n",
              "    .dataframe tbody tr th:only-of-type {\n",
              "        vertical-align: middle;\n",
              "    }\n",
              "\n",
              "    .dataframe tbody tr th {\n",
              "        vertical-align: top;\n",
              "    }\n",
              "\n",
              "    .dataframe thead th {\n",
              "        text-align: right;\n",
              "    }\n",
              "</style>\n",
              "<table border=\"1\" class=\"dataframe\">\n",
              "  <thead>\n",
              "    <tr style=\"text-align: right;\">\n",
              "      <th></th>\n",
              "      <th>count</th>\n",
              "      <th>mean</th>\n",
              "      <th>std</th>\n",
              "      <th>min</th>\n",
              "      <th>25%</th>\n",
              "      <th>50%</th>\n",
              "      <th>75%</th>\n",
              "      <th>max</th>\n",
              "    </tr>\n",
              "  </thead>\n",
              "  <tbody>\n",
              "    <tr>\n",
              "      <th>Age</th>\n",
              "      <td>1470.0</td>\n",
              "      <td>36.923810</td>\n",
              "      <td>9.135373</td>\n",
              "      <td>18.0</td>\n",
              "      <td>30.0</td>\n",
              "      <td>36.0</td>\n",
              "      <td>43.0</td>\n",
              "      <td>60.0</td>\n",
              "    </tr>\n",
              "    <tr>\n",
              "      <th>DailyRate</th>\n",
              "      <td>1470.0</td>\n",
              "      <td>802.485714</td>\n",
              "      <td>403.509100</td>\n",
              "      <td>102.0</td>\n",
              "      <td>465.0</td>\n",
              "      <td>802.0</td>\n",
              "      <td>1157.0</td>\n",
              "      <td>1499.0</td>\n",
              "    </tr>\n",
              "    <tr>\n",
              "      <th>DistanceFromHome</th>\n",
              "      <td>1470.0</td>\n",
              "      <td>9.192517</td>\n",
              "      <td>8.106864</td>\n",
              "      <td>1.0</td>\n",
              "      <td>2.0</td>\n",
              "      <td>7.0</td>\n",
              "      <td>14.0</td>\n",
              "      <td>29.0</td>\n",
              "    </tr>\n",
              "    <tr>\n",
              "      <th>Education</th>\n",
              "      <td>1470.0</td>\n",
              "      <td>2.912925</td>\n",
              "      <td>1.024165</td>\n",
              "      <td>1.0</td>\n",
              "      <td>2.0</td>\n",
              "      <td>3.0</td>\n",
              "      <td>4.0</td>\n",
              "      <td>5.0</td>\n",
              "    </tr>\n",
              "    <tr>\n",
              "      <th>EmployeeCount</th>\n",
              "      <td>1470.0</td>\n",
              "      <td>1.000000</td>\n",
              "      <td>0.000000</td>\n",
              "      <td>1.0</td>\n",
              "      <td>1.0</td>\n",
              "      <td>1.0</td>\n",
              "      <td>1.0</td>\n",
              "      <td>1.0</td>\n",
              "    </tr>\n",
              "  </tbody>\n",
              "</table>\n",
              "</div>"
            ],
            "text/plain": [
              "                   count        mean         std  ...    50%     75%     max\n",
              "Age               1470.0   36.923810    9.135373  ...   36.0    43.0    60.0\n",
              "DailyRate         1470.0  802.485714  403.509100  ...  802.0  1157.0  1499.0\n",
              "DistanceFromHome  1470.0    9.192517    8.106864  ...    7.0    14.0    29.0\n",
              "Education         1470.0    2.912925    1.024165  ...    3.0     4.0     5.0\n",
              "EmployeeCount     1470.0    1.000000    0.000000  ...    1.0     1.0     1.0\n",
              "\n",
              "[5 rows x 8 columns]"
            ]
          },
          "metadata": {},
          "execution_count": 168
        }
      ]
    },
    {
      "cell_type": "markdown",
      "metadata": {
        "id": "jMfpnlXvQyiU"
      },
      "source": [
        "* Normalizando os dados"
      ]
    },
    {
      "cell_type": "code",
      "metadata": {
        "id": "mLAcY_wjQNlq"
      },
      "source": [
        "def norm(x,mean,std):\n",
        "  if std==0:\n",
        "    return x\n",
        "  else:\n",
        "    return (x - mean) / std\n",
        "for i in range(0,len(all_data.columns)):\n",
        "  all_data.iloc[:,i] = norm(all_data.iloc[:,i],df_stats['mean'][i],df_stats['std'][i])"
      ],
      "execution_count": 170,
      "outputs": []
    },
    {
      "cell_type": "markdown",
      "metadata": {
        "id": "z6b55uZrHDdw"
      },
      "source": [
        "* Separando os datasets  "
      ]
    },
    {
      "cell_type": "code",
      "metadata": {
        "id": "SMev_3luC0O9"
      },
      "source": [
        "X = all_data[:len(X)]\n",
        "test = all_data[len(X):]"
      ],
      "execution_count": 173,
      "outputs": []
    },
    {
      "cell_type": "code",
      "metadata": {
        "colab": {
          "base_uri": "https://localhost:8080/"
        },
        "id": "bdnQDddIC41J",
        "outputId": "ce23b9f4-3fc9-41cb-db23-6c995ca81f0e"
      },
      "source": [
        "X.shape, test.shape"
      ],
      "execution_count": 174,
      "outputs": [
        {
          "output_type": "execute_result",
          "data": {
            "text/plain": [
              "((1176, 55), (294, 55))"
            ]
          },
          "metadata": {},
          "execution_count": 174
        }
      ]
    },
    {
      "cell_type": "markdown",
      "metadata": {
        "id": "Y0pZzbiy_WHz"
      },
      "source": [
        "* Dividindo o dataset de treinamento e validação"
      ]
    },
    {
      "cell_type": "code",
      "metadata": {
        "id": "e0RovMkVVJnU"
      },
      "source": [
        "from sklearn.model_selection import train_test_split"
      ],
      "execution_count": 101,
      "outputs": []
    },
    {
      "cell_type": "code",
      "metadata": {
        "id": "CaJcFVq_Ta_X"
      },
      "source": [
        "def train_test_split_yi(X,y):\n",
        "  Xtrain, Xval, ytrain, yval = train_test_split(X, y, random_state=0, train_size=0.75, stratify=y)\n",
        "  return Xtrain, Xval, ytrain, yval"
      ],
      "execution_count": 175,
      "outputs": []
    },
    {
      "cell_type": "markdown",
      "metadata": {
        "id": "rKA4Atfq8Q6w"
      },
      "source": [
        "### Modelo  de classificação -  Regressão Logística "
      ]
    },
    {
      "cell_type": "markdown",
      "metadata": {
        "id": "sW5oES_Q5zKT"
      },
      "source": [
        "**Usaremos as seguintes métricas de avaliação:**\n",
        "\n",
        "1. Recall\n",
        "2. Precision \n",
        "3. F1_score\n",
        "3. ROC - AUC : Área sob a curva característica de operação do receptor. Ou seja,  é a área sob a curva ao traçar a taxa de verdadeiro positivo (normalizada) (eixo x) e a taxa de falso positivo (eixo y).\n",
        "\n",
        "*Nossa métrica principal aqui será os valores de F1_score, enquanto o AUC ROC Score cuidará de quão bem as probabilidades previstas são capazes de diferenciar entre as 2 classes.*"
      ]
    },
    {
      "cell_type": "markdown",
      "metadata": {
        "id": "VnBPuhdD5Hfi"
      },
      "source": [
        "* Importando os pacotes do modelo e das métricas que serão utilizadas \n"
      ]
    },
    {
      "cell_type": "code",
      "metadata": {
        "id": "3B0GurWv5qLy"
      },
      "source": [
        "from sklearn.linear_model import LogisticRegression\n",
        "from sklearn.metrics import accuracy_score, f1_score, roc_curve, roc_auc_score, recall_score,precision_score"
      ],
      "execution_count": 136,
      "outputs": []
    },
    {
      "cell_type": "markdown",
      "metadata": {
        "id": "ZseKPQYQXxhM"
      },
      "source": [
        "* Treinando o medelo de regressão logística para cada produto "
      ]
    },
    {
      "cell_type": "code",
      "metadata": {
        "id": "D8trcy0xEDk5"
      },
      "source": [
        "Xtrain, Xval, ytrain, yval = train_test_split_yi(X,y)\n",
        "reg_log  = LogisticRegression().fit(Xtrain, ytrain)"
      ],
      "execution_count": null,
      "outputs": []
    },
    {
      "cell_type": "code",
      "metadata": {
        "id": "f3PP7ACX6OAi"
      },
      "source": [
        "regressao_logistica = []\n",
        "score = []\n",
        "recall_list = []\n",
        "precision_list = []\n",
        "roc_auc_score_list = []\n",
        "f1_score_list = [] \n",
        "fpr_list = []\n",
        "tpr_list = []\n",
        "regressao_logistica.append(reg_log)\n",
        "score.append(reg_log.score(Xval,yval))\n",
        "pred_val = reg_log.predict(Xval)\n",
        "f1_score_list.append(f1_score(yval, pred_val, average=None))\n",
        "recall_list.append(recall_score(yval,pred_val)) \n",
        "precision_list.append(precision_score(yval,pred_val))\n",
        "roc_auc_score_list.append(roc_auc_score(yval,reg_log.predict_proba(Xval)[:,1]))\n",
        "fpr, tpr, _ = roc_curve(yval,reg_log.predict_proba(Xval)[:,1])\n",
        "fpr_list.append(fpr)\n",
        "tpr_list.append(tpr)"
      ],
      "execution_count": 177,
      "outputs": []
    },
    {
      "cell_type": "code",
      "metadata": {
        "colab": {
          "base_uri": "https://localhost:8080/",
          "height": 206
        },
        "id": "6aJ8qKW8Si_f",
        "outputId": "520adffb-8ec1-46b6-e333-82d17338e3fb"
      },
      "source": [
        "df_metrics = pd.DataFrame({'score': score, \n",
        "                           'recall_score': recall_list,\n",
        "                           'precision_score':precision_list,\n",
        "                           'f1_score':f1_score_list,\n",
        "                           'roc_auc_score':roc_auc_score_list}).transpose()\n",
        "df_metrics"
      ],
      "execution_count": 178,
      "outputs": [
        {
          "output_type": "execute_result",
          "data": {
            "text/html": [
              "<div>\n",
              "<style scoped>\n",
              "    .dataframe tbody tr th:only-of-type {\n",
              "        vertical-align: middle;\n",
              "    }\n",
              "\n",
              "    .dataframe tbody tr th {\n",
              "        vertical-align: top;\n",
              "    }\n",
              "\n",
              "    .dataframe thead th {\n",
              "        text-align: right;\n",
              "    }\n",
              "</style>\n",
              "<table border=\"1\" class=\"dataframe\">\n",
              "  <thead>\n",
              "    <tr style=\"text-align: right;\">\n",
              "      <th></th>\n",
              "      <th>0</th>\n",
              "    </tr>\n",
              "  </thead>\n",
              "  <tbody>\n",
              "    <tr>\n",
              "      <th>score</th>\n",
              "      <td>0.877551</td>\n",
              "    </tr>\n",
              "    <tr>\n",
              "      <th>recall_score</th>\n",
              "      <td>0.446809</td>\n",
              "    </tr>\n",
              "    <tr>\n",
              "      <th>precision_score</th>\n",
              "      <td>0.677419</td>\n",
              "    </tr>\n",
              "    <tr>\n",
              "      <th>f1_score</th>\n",
              "      <td>[0.9294117647058823, 0.5384615384615384]</td>\n",
              "    </tr>\n",
              "    <tr>\n",
              "      <th>roc_auc_score</th>\n",
              "      <td>0.839521</td>\n",
              "    </tr>\n",
              "  </tbody>\n",
              "</table>\n",
              "</div>"
            ],
            "text/plain": [
              "                                                        0\n",
              "score                                            0.877551\n",
              "recall_score                                     0.446809\n",
              "precision_score                                  0.677419\n",
              "f1_score         [0.9294117647058823, 0.5384615384615384]\n",
              "roc_auc_score                                    0.839521"
            ]
          },
          "metadata": {},
          "execution_count": 178
        }
      ]
    },
    {
      "cell_type": "markdown",
      "metadata": {
        "id": "39fMAeUkKWJ2"
      },
      "source": [
        "#### Curva AUC ROC \n",
        "Agora, vamos visualizar a curva AUC-ROC para o modelo "
      ]
    },
    {
      "cell_type": "code",
      "metadata": {
        "id": "5Ce6IiEqviNa"
      },
      "source": [
        "def plot_roc_auc(fpr,tpr,auc,prod): \n",
        "  ax = plt.plot(fpr,tpr,label=prod + \": Validação AUC-ROC=\"+str(round(auc,2))) \n",
        "  x = np.linspace(0, 1, 1000)\n",
        "  plt.plot(x, x, linestyle='-')\n",
        "  plt.xlabel('Taxa de falso positivo') \n",
        "  plt.ylabel('Taxa de verdadeiro positivo') \n",
        "  plt.legend(loc=4) \n",
        "  return ax"
      ],
      "execution_count": 179,
      "outputs": []
    },
    {
      "cell_type": "code",
      "metadata": {
        "colab": {
          "base_uri": "https://localhost:8080/",
          "height": 260
        },
        "id": "TZoZckdAyyfN",
        "outputId": "d8433273-3630-4397-c290-7f8c0e556307"
      },
      "source": [
        "plt.figure(figsize=(20,8))\n",
        "plt.subplot(221),plot_roc_auc(fpr_list[0],tpr_list[0],roc_auc_score_list[0],y.columns[0])\n",
        "plt.show()"
      ],
      "execution_count": 180,
      "outputs": [
        {
          "output_type": "display_data",
          "data": {
            "image/png": "[encoded data removed]",
            "text/plain": [
              "<Figure size 1440x576 with 1 Axes>"
            ]
          },
          "metadata": {
            "needs_background": "light"
          }
        }
      ]
    },
    {
      "cell_type": "markdown",
      "metadata": {
        "id": "jSty63h2K7w2"
      },
      "source": [
        "### Previsão e apresentação"
      ]
    },
    {
      "cell_type": "markdown",
      "metadata": {
        "id": "gRrN5MCOUmAt"
      },
      "source": [
        "* Prevendo quais funcionários do conjunto de dados test (conjunto de dados sem rótulo, ou seja, sem a variável resposta) estão mais propensos a sairem ou não da empresa "
      ]
    },
    {
      "cell_type": "code",
      "metadata": {
        "id": "OLRTQCs37LAC",
        "colab": {
          "base_uri": "https://localhost:8080/",
          "height": 206
        },
        "outputId": "438741e1-26c0-4f28-e00e-a7f96b9607fa"
      },
      "source": [
        "y_pred_test = pd.DataFrame(regressao_logistica[0].predict(test),columns=['Attrition'])\n",
        "y_pred_test.head()"
      ],
      "execution_count": 182,
      "outputs": [
        {
          "output_type": "execute_result",
          "data": {
            "text/html": [
              "<div>\n",
              "<style scoped>\n",
              "    .dataframe tbody tr th:only-of-type {\n",
              "        vertical-align: middle;\n",
              "    }\n",
              "\n",
              "    .dataframe tbody tr th {\n",
              "        vertical-align: top;\n",
              "    }\n",
              "\n",
              "    .dataframe thead th {\n",
              "        text-align: right;\n",
              "    }\n",
              "</style>\n",
              "<table border=\"1\" class=\"dataframe\">\n",
              "  <thead>\n",
              "    <tr style=\"text-align: right;\">\n",
              "      <th></th>\n",
              "      <th>Attrition</th>\n",
              "    </tr>\n",
              "  </thead>\n",
              "  <tbody>\n",
              "    <tr>\n",
              "      <th>0</th>\n",
              "      <td>0</td>\n",
              "    </tr>\n",
              "    <tr>\n",
              "      <th>1</th>\n",
              "      <td>0</td>\n",
              "    </tr>\n",
              "    <tr>\n",
              "      <th>2</th>\n",
              "      <td>0</td>\n",
              "    </tr>\n",
              "    <tr>\n",
              "      <th>3</th>\n",
              "      <td>0</td>\n",
              "    </tr>\n",
              "    <tr>\n",
              "      <th>4</th>\n",
              "      <td>1</td>\n",
              "    </tr>\n",
              "  </tbody>\n",
              "</table>\n",
              "</div>"
            ],
            "text/plain": [
              "   Attrition\n",
              "0          0\n",
              "1          0\n",
              "2          0\n",
              "3          0\n",
              "4          1"
            ]
          },
          "metadata": {},
          "execution_count": 182
        }
      ]
    },
    {
      "cell_type": "markdown",
      "metadata": {
        "id": "sw6ShzBtALBc"
      },
      "source": [
        "* Resultado entregável "
      ]
    },
    {
      "cell_type": "code",
      "metadata": {
        "colab": {
          "base_uri": "https://localhost:8080/",
          "height": 313
        },
        "id": "ecSesrqY-LiE",
        "outputId": "34d0f756-ddc2-4d1d-d353-e0a367d46ba0"
      },
      "source": [
        "test = pd.read_csv(sorted(os.listdir(\"../content\"))[-2])\n",
        "test['Attrition'] = y_pred_test\n",
        "result_final = test\n",
        "result_final.head()"
      ],
      "execution_count": 183,
      "outputs": [
        {
          "output_type": "execute_result",
          "data": {
            "text/html": [
              "<div>\n",
              "<style scoped>\n",
              "    .dataframe tbody tr th:only-of-type {\n",
              "        vertical-align: middle;\n",
              "    }\n",
              "\n",
              "    .dataframe tbody tr th {\n",
              "        vertical-align: top;\n",
              "    }\n",
              "\n",
              "    .dataframe thead th {\n",
              "        text-align: right;\n",
              "    }\n",
              "</style>\n",
              "<table border=\"1\" class=\"dataframe\">\n",
              "  <thead>\n",
              "    <tr style=\"text-align: right;\">\n",
              "      <th></th>\n",
              "      <th>Age</th>\n",
              "      <th>BusinessTravel</th>\n",
              "      <th>DailyRate</th>\n",
              "      <th>Department</th>\n",
              "      <th>DistanceFromHome</th>\n",
              "      <th>Education</th>\n",
              "      <th>EducationField</th>\n",
              "      <th>EmployeeCount</th>\n",
              "      <th>EmployeeNumber</th>\n",
              "      <th>EnvironmentSatisfaction</th>\n",
              "      <th>Gender</th>\n",
              "      <th>HourlyRate</th>\n",
              "      <th>JobInvolvement</th>\n",
              "      <th>JobLevel</th>\n",
              "      <th>JobRole</th>\n",
              "      <th>JobSatisfaction</th>\n",
              "      <th>MaritalStatus</th>\n",
              "      <th>MonthlyIncome</th>\n",
              "      <th>MonthlyRate</th>\n",
              "      <th>NumCompaniesWorked</th>\n",
              "      <th>Over18</th>\n",
              "      <th>OverTime</th>\n",
              "      <th>PercentSalaryHike</th>\n",
              "      <th>PerformanceRating</th>\n",
              "      <th>RelationshipSatisfaction</th>\n",
              "      <th>StandardHours</th>\n",
              "      <th>StockOptionLevel</th>\n",
              "      <th>TotalWorkingYears</th>\n",
              "      <th>TrainingTimesLastYear</th>\n",
              "      <th>WorkLifeBalance</th>\n",
              "      <th>YearsAtCompany</th>\n",
              "      <th>YearsInCurrentRole</th>\n",
              "      <th>YearsSinceLastPromotion</th>\n",
              "      <th>YearsWithCurrManager</th>\n",
              "      <th>Attrition</th>\n",
              "    </tr>\n",
              "  </thead>\n",
              "  <tbody>\n",
              "    <tr>\n",
              "      <th>0</th>\n",
              "      <td>52</td>\n",
              "      <td>Travel_Rarely</td>\n",
              "      <td>699</td>\n",
              "      <td>Research &amp; Development</td>\n",
              "      <td>1</td>\n",
              "      <td>4</td>\n",
              "      <td>Life Sciences</td>\n",
              "      <td>1</td>\n",
              "      <td>259</td>\n",
              "      <td>3</td>\n",
              "      <td>Male</td>\n",
              "      <td>65</td>\n",
              "      <td>2</td>\n",
              "      <td>5</td>\n",
              "      <td>Manager</td>\n",
              "      <td>3</td>\n",
              "      <td>Married</td>\n",
              "      <td>19999</td>\n",
              "      <td>5678</td>\n",
              "      <td>0</td>\n",
              "      <td>Y</td>\n",
              "      <td>No</td>\n",
              "      <td>14</td>\n",
              "      <td>3</td>\n",
              "      <td>1</td>\n",
              "      <td>80</td>\n",
              "      <td>1</td>\n",
              "      <td>34</td>\n",
              "      <td>5</td>\n",
              "      <td>3</td>\n",
              "      <td>33</td>\n",
              "      <td>18</td>\n",
              "      <td>11</td>\n",
              "      <td>9</td>\n",
              "      <td>0</td>\n",
              "    </tr>\n",
              "    <tr>\n",
              "      <th>1</th>\n",
              "      <td>43</td>\n",
              "      <td>Travel_Rarely</td>\n",
              "      <td>574</td>\n",
              "      <td>Research &amp; Development</td>\n",
              "      <td>11</td>\n",
              "      <td>3</td>\n",
              "      <td>Life Sciences</td>\n",
              "      <td>1</td>\n",
              "      <td>1971</td>\n",
              "      <td>1</td>\n",
              "      <td>Male</td>\n",
              "      <td>30</td>\n",
              "      <td>3</td>\n",
              "      <td>3</td>\n",
              "      <td>Healthcare Representative</td>\n",
              "      <td>3</td>\n",
              "      <td>Married</td>\n",
              "      <td>7510</td>\n",
              "      <td>16873</td>\n",
              "      <td>1</td>\n",
              "      <td>Y</td>\n",
              "      <td>No</td>\n",
              "      <td>17</td>\n",
              "      <td>3</td>\n",
              "      <td>2</td>\n",
              "      <td>80</td>\n",
              "      <td>1</td>\n",
              "      <td>10</td>\n",
              "      <td>1</td>\n",
              "      <td>3</td>\n",
              "      <td>10</td>\n",
              "      <td>9</td>\n",
              "      <td>0</td>\n",
              "      <td>9</td>\n",
              "      <td>0</td>\n",
              "    </tr>\n",
              "    <tr>\n",
              "      <th>2</th>\n",
              "      <td>34</td>\n",
              "      <td>Travel_Rarely</td>\n",
              "      <td>1320</td>\n",
              "      <td>Research &amp; Development</td>\n",
              "      <td>20</td>\n",
              "      <td>3</td>\n",
              "      <td>Technical Degree</td>\n",
              "      <td>1</td>\n",
              "      <td>1265</td>\n",
              "      <td>3</td>\n",
              "      <td>Female</td>\n",
              "      <td>89</td>\n",
              "      <td>4</td>\n",
              "      <td>1</td>\n",
              "      <td>Research Scientist</td>\n",
              "      <td>3</td>\n",
              "      <td>Married</td>\n",
              "      <td>2585</td>\n",
              "      <td>21643</td>\n",
              "      <td>0</td>\n",
              "      <td>Y</td>\n",
              "      <td>No</td>\n",
              "      <td>17</td>\n",
              "      <td>3</td>\n",
              "      <td>4</td>\n",
              "      <td>80</td>\n",
              "      <td>0</td>\n",
              "      <td>2</td>\n",
              "      <td>5</td>\n",
              "      <td>2</td>\n",
              "      <td>1</td>\n",
              "      <td>0</td>\n",
              "      <td>0</td>\n",
              "      <td>0</td>\n",
              "      <td>0</td>\n",
              "    </tr>\n",
              "    <tr>\n",
              "      <th>3</th>\n",
              "      <td>28</td>\n",
              "      <td>Travel_Rarely</td>\n",
              "      <td>1475</td>\n",
              "      <td>Sales</td>\n",
              "      <td>13</td>\n",
              "      <td>2</td>\n",
              "      <td>Marketing</td>\n",
              "      <td>1</td>\n",
              "      <td>1933</td>\n",
              "      <td>4</td>\n",
              "      <td>Female</td>\n",
              "      <td>84</td>\n",
              "      <td>3</td>\n",
              "      <td>2</td>\n",
              "      <td>Sales Executive</td>\n",
              "      <td>3</td>\n",
              "      <td>Single</td>\n",
              "      <td>9854</td>\n",
              "      <td>23352</td>\n",
              "      <td>3</td>\n",
              "      <td>Y</td>\n",
              "      <td>Yes</td>\n",
              "      <td>11</td>\n",
              "      <td>3</td>\n",
              "      <td>4</td>\n",
              "      <td>80</td>\n",
              "      <td>0</td>\n",
              "      <td>6</td>\n",
              "      <td>0</td>\n",
              "      <td>3</td>\n",
              "      <td>2</td>\n",
              "      <td>0</td>\n",
              "      <td>2</td>\n",
              "      <td>2</td>\n",
              "      <td>0</td>\n",
              "    </tr>\n",
              "    <tr>\n",
              "      <th>4</th>\n",
              "      <td>47</td>\n",
              "      <td>Travel_Frequently</td>\n",
              "      <td>1093</td>\n",
              "      <td>Sales</td>\n",
              "      <td>9</td>\n",
              "      <td>3</td>\n",
              "      <td>Life Sciences</td>\n",
              "      <td>1</td>\n",
              "      <td>1716</td>\n",
              "      <td>3</td>\n",
              "      <td>Male</td>\n",
              "      <td>82</td>\n",
              "      <td>1</td>\n",
              "      <td>4</td>\n",
              "      <td>Sales Executive</td>\n",
              "      <td>3</td>\n",
              "      <td>Married</td>\n",
              "      <td>12936</td>\n",
              "      <td>24164</td>\n",
              "      <td>7</td>\n",
              "      <td>Y</td>\n",
              "      <td>No</td>\n",
              "      <td>11</td>\n",
              "      <td>3</td>\n",
              "      <td>3</td>\n",
              "      <td>80</td>\n",
              "      <td>0</td>\n",
              "      <td>25</td>\n",
              "      <td>3</td>\n",
              "      <td>1</td>\n",
              "      <td>23</td>\n",
              "      <td>5</td>\n",
              "      <td>14</td>\n",
              "      <td>10</td>\n",
              "      <td>1</td>\n",
              "    </tr>\n",
              "  </tbody>\n",
              "</table>\n",
              "</div>"
            ],
            "text/plain": [
              "   Age     BusinessTravel  ...  YearsWithCurrManager Attrition\n",
              "0   52      Travel_Rarely  ...                     9         0\n",
              "1   43      Travel_Rarely  ...                     9         0\n",
              "2   34      Travel_Rarely  ...                     0         0\n",
              "3   28      Travel_Rarely  ...                     2         0\n",
              "4   47  Travel_Frequently  ...                    10         1\n",
              "\n",
              "[5 rows x 35 columns]"
            ]
          },
          "metadata": {},
          "execution_count": 183
        }
      ]
    },
    {
      "cell_type": "markdown",
      "metadata": {
        "id": "Y-tW5_DeUd4O"
      },
      "source": [
        "* Salvando no formato .csv para envio"
      ]
    },
    {
      "cell_type": "code",
      "metadata": {
        "id": "wBiBTHkXUght"
      },
      "source": [
        "result_final.to_csv(\"resultado_final.csv\", index = False)"
      ],
      "execution_count": 184,
      "outputs": []
    }
  ]
}